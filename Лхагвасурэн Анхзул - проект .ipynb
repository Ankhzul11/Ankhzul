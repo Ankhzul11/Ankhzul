{
 "cells": [
  {
   "cell_type": "markdown",
   "id": "9c0acffd",
   "metadata": {},
   "source": [
    "# Проект по анализу данных"
   ]
  },
  {
   "cell_type": "markdown",
   "id": "25851bd0",
   "metadata": {},
   "source": [
    "участник: Лхагвасурэн Анхзул"
   ]
  },
  {
   "cell_type": "markdown",
   "id": "5804c28f",
   "metadata": {},
   "source": [
    "# Шаг 1: Выбор темы"
   ]
  },
  {
   "cell_type": "markdown",
   "id": "b2a75de6",
   "metadata": {},
   "source": [
    "Мне было интересно работать с продажами и прогнозировать прибыльность продукта, поэтому я решила для своего исследования проанализировать продажи кофейня."
   ]
  },
  {
   "cell_type": "markdown",
   "id": "6f8ef3b8",
   "metadata": {},
   "source": [
    "# Шаг 2: Сбор данных"
   ]
  },
  {
   "cell_type": "markdown",
   "id": "6e883926",
   "metadata": {},
   "source": [
    "Для исследования я получила данные от Kaggle. Вот данные о продажах кофейни за 6 месяцев. Набор данных состоит из следующих столбцов: transaction_id- ID транзакции\n",
    "\n",
    "transaction_date- Дата транзакции\n",
    "\n",
    "transaction_time- Время транзакции\n",
    "\n",
    "transaction_quantity- Количество\n",
    "\n",
    "store_id- Номер кофейного магазина\n",
    "\n",
    "store_location- Расположение кофейного магазина\n",
    "\n",
    "product_id- Номер продукта\n",
    "\n",
    "unit_price- Цена за единицу товара\n",
    "\n",
    "product_category- Категория продукта\n",
    "\n",
    "product_type-Тип продукта\n",
    "\n",
    "product_detail-Информация о продукте"
   ]
  },
  {
   "cell_type": "markdown",
   "id": "86098b8b",
   "metadata": {},
   "source": [
    "# Шаг 3: Предварительная обработка"
   ]
  },
  {
   "cell_type": "code",
   "execution_count": 194,
   "id": "eb7a49c1",
   "metadata": {},
   "outputs": [],
   "source": [
    "import numpy as np\n",
    "import pandas as pd\n",
    "import matplotlib.pyplot as plt\n",
    "import seaborn as sns\n",
    "import plotly.express as px\n",
    "from plotly.offline import iplot\n",
    "\n",
    "from scipy import stats\n",
    "import statistics\n",
    "\n",
    "import random\n",
    "from sklearn import preprocessing\n",
    "import scipy.stats as sp\n",
    "np.random.seed(42)\n",
    "from scipy.stats import norm   \n",
    "from scipy.stats import ttest_ind\n",
    "from tqdm import tqdm\n",
    "import math\n",
    "import os\n",
    "from sklearn.model_selection import train_test_split\n",
    "from sklearn.linear_model import LinearRegression # подгрузили модель\n",
    "from sklearn.linear_model import Ridge\n",
    "from sklearn.preprocessing import StandardScaler\n",
    "from sklearn.model_selection import GridSearchCV    #Подгружаем Gridsearch, регрессии\n",
    "\n",
    "# Отключение некоторых лишних предупреждений\n",
    "import warnings\n",
    "warnings.filterwarnings(\"ignore\")"
   ]
  },
  {
   "cell_type": "code",
   "execution_count": 195,
   "id": "1fedc4bc",
   "metadata": {},
   "outputs": [
    {
     "data": {
      "text/html": [
       "<div>\n",
       "<style scoped>\n",
       "    .dataframe tbody tr th:only-of-type {\n",
       "        vertical-align: middle;\n",
       "    }\n",
       "\n",
       "    .dataframe tbody tr th {\n",
       "        vertical-align: top;\n",
       "    }\n",
       "\n",
       "    .dataframe thead th {\n",
       "        text-align: right;\n",
       "    }\n",
       "</style>\n",
       "<table border=\"1\" class=\"dataframe\">\n",
       "  <thead>\n",
       "    <tr style=\"text-align: right;\">\n",
       "      <th></th>\n",
       "      <th>transaction_id</th>\n",
       "      <th>transaction_date</th>\n",
       "      <th>transaction_time</th>\n",
       "      <th>transaction_quantity</th>\n",
       "      <th>store_id</th>\n",
       "      <th>store_location</th>\n",
       "      <th>product_id</th>\n",
       "      <th>unit_price</th>\n",
       "      <th>product_category</th>\n",
       "      <th>product_type</th>\n",
       "      <th>product_detail</th>\n",
       "    </tr>\n",
       "  </thead>\n",
       "  <tbody>\n",
       "    <tr>\n",
       "      <th>0</th>\n",
       "      <td>1</td>\n",
       "      <td>2023-01-01</td>\n",
       "      <td>07:06:11</td>\n",
       "      <td>2</td>\n",
       "      <td>5</td>\n",
       "      <td>Lower Manhattan</td>\n",
       "      <td>32</td>\n",
       "      <td>3.00</td>\n",
       "      <td>Coffee</td>\n",
       "      <td>Gourmet brewed coffee</td>\n",
       "      <td>Ethiopia Rg</td>\n",
       "    </tr>\n",
       "    <tr>\n",
       "      <th>1</th>\n",
       "      <td>2</td>\n",
       "      <td>2023-01-01</td>\n",
       "      <td>07:08:56</td>\n",
       "      <td>2</td>\n",
       "      <td>5</td>\n",
       "      <td>Lower Manhattan</td>\n",
       "      <td>57</td>\n",
       "      <td>3.10</td>\n",
       "      <td>Tea</td>\n",
       "      <td>Brewed Chai tea</td>\n",
       "      <td>Spicy Eye Opener Chai Lg</td>\n",
       "    </tr>\n",
       "    <tr>\n",
       "      <th>2</th>\n",
       "      <td>3</td>\n",
       "      <td>2023-01-01</td>\n",
       "      <td>07:14:04</td>\n",
       "      <td>2</td>\n",
       "      <td>5</td>\n",
       "      <td>Lower Manhattan</td>\n",
       "      <td>59</td>\n",
       "      <td>4.50</td>\n",
       "      <td>Drinking Chocolate</td>\n",
       "      <td>Hot chocolate</td>\n",
       "      <td>Dark chocolate Lg</td>\n",
       "    </tr>\n",
       "    <tr>\n",
       "      <th>3</th>\n",
       "      <td>4</td>\n",
       "      <td>2023-01-01</td>\n",
       "      <td>07:20:24</td>\n",
       "      <td>1</td>\n",
       "      <td>5</td>\n",
       "      <td>Lower Manhattan</td>\n",
       "      <td>22</td>\n",
       "      <td>2.00</td>\n",
       "      <td>Coffee</td>\n",
       "      <td>Drip coffee</td>\n",
       "      <td>Our Old Time Diner Blend Sm</td>\n",
       "    </tr>\n",
       "    <tr>\n",
       "      <th>4</th>\n",
       "      <td>5</td>\n",
       "      <td>2023-01-01</td>\n",
       "      <td>07:22:41</td>\n",
       "      <td>2</td>\n",
       "      <td>5</td>\n",
       "      <td>Lower Manhattan</td>\n",
       "      <td>57</td>\n",
       "      <td>3.10</td>\n",
       "      <td>Tea</td>\n",
       "      <td>Brewed Chai tea</td>\n",
       "      <td>Spicy Eye Opener Chai Lg</td>\n",
       "    </tr>\n",
       "    <tr>\n",
       "      <th>...</th>\n",
       "      <td>...</td>\n",
       "      <td>...</td>\n",
       "      <td>...</td>\n",
       "      <td>...</td>\n",
       "      <td>...</td>\n",
       "      <td>...</td>\n",
       "      <td>...</td>\n",
       "      <td>...</td>\n",
       "      <td>...</td>\n",
       "      <td>...</td>\n",
       "      <td>...</td>\n",
       "    </tr>\n",
       "    <tr>\n",
       "      <th>149111</th>\n",
       "      <td>149452</td>\n",
       "      <td>2023-06-30</td>\n",
       "      <td>20:18:41</td>\n",
       "      <td>2</td>\n",
       "      <td>8</td>\n",
       "      <td>Hell's Kitchen</td>\n",
       "      <td>44</td>\n",
       "      <td>2.50</td>\n",
       "      <td>Tea</td>\n",
       "      <td>Brewed herbal tea</td>\n",
       "      <td>Peppermint Rg</td>\n",
       "    </tr>\n",
       "    <tr>\n",
       "      <th>149112</th>\n",
       "      <td>149453</td>\n",
       "      <td>2023-06-30</td>\n",
       "      <td>20:25:10</td>\n",
       "      <td>2</td>\n",
       "      <td>8</td>\n",
       "      <td>Hell's Kitchen</td>\n",
       "      <td>49</td>\n",
       "      <td>3.00</td>\n",
       "      <td>Tea</td>\n",
       "      <td>Brewed Black tea</td>\n",
       "      <td>English Breakfast Lg</td>\n",
       "    </tr>\n",
       "    <tr>\n",
       "      <th>149113</th>\n",
       "      <td>149454</td>\n",
       "      <td>2023-06-30</td>\n",
       "      <td>20:31:34</td>\n",
       "      <td>1</td>\n",
       "      <td>8</td>\n",
       "      <td>Hell's Kitchen</td>\n",
       "      <td>45</td>\n",
       "      <td>3.00</td>\n",
       "      <td>Tea</td>\n",
       "      <td>Brewed herbal tea</td>\n",
       "      <td>Peppermint Lg</td>\n",
       "    </tr>\n",
       "    <tr>\n",
       "      <th>149114</th>\n",
       "      <td>149455</td>\n",
       "      <td>2023-06-30</td>\n",
       "      <td>20:57:19</td>\n",
       "      <td>1</td>\n",
       "      <td>8</td>\n",
       "      <td>Hell's Kitchen</td>\n",
       "      <td>40</td>\n",
       "      <td>3.75</td>\n",
       "      <td>Coffee</td>\n",
       "      <td>Barista Espresso</td>\n",
       "      <td>Cappuccino</td>\n",
       "    </tr>\n",
       "    <tr>\n",
       "      <th>149115</th>\n",
       "      <td>149456</td>\n",
       "      <td>2023-06-30</td>\n",
       "      <td>20:57:19</td>\n",
       "      <td>2</td>\n",
       "      <td>8</td>\n",
       "      <td>Hell's Kitchen</td>\n",
       "      <td>64</td>\n",
       "      <td>0.80</td>\n",
       "      <td>Flavours</td>\n",
       "      <td>Regular syrup</td>\n",
       "      <td>Hazelnut syrup</td>\n",
       "    </tr>\n",
       "  </tbody>\n",
       "</table>\n",
       "<p>149116 rows × 11 columns</p>\n",
       "</div>"
      ],
      "text/plain": [
       "        transaction_id transaction_date transaction_time  \\\n",
       "0                    1       2023-01-01         07:06:11   \n",
       "1                    2       2023-01-01         07:08:56   \n",
       "2                    3       2023-01-01         07:14:04   \n",
       "3                    4       2023-01-01         07:20:24   \n",
       "4                    5       2023-01-01         07:22:41   \n",
       "...                ...              ...              ...   \n",
       "149111          149452       2023-06-30         20:18:41   \n",
       "149112          149453       2023-06-30         20:25:10   \n",
       "149113          149454       2023-06-30         20:31:34   \n",
       "149114          149455       2023-06-30         20:57:19   \n",
       "149115          149456       2023-06-30         20:57:19   \n",
       "\n",
       "        transaction_quantity  store_id   store_location  product_id  \\\n",
       "0                          2         5  Lower Manhattan          32   \n",
       "1                          2         5  Lower Manhattan          57   \n",
       "2                          2         5  Lower Manhattan          59   \n",
       "3                          1         5  Lower Manhattan          22   \n",
       "4                          2         5  Lower Manhattan          57   \n",
       "...                      ...       ...              ...         ...   \n",
       "149111                     2         8   Hell's Kitchen          44   \n",
       "149112                     2         8   Hell's Kitchen          49   \n",
       "149113                     1         8   Hell's Kitchen          45   \n",
       "149114                     1         8   Hell's Kitchen          40   \n",
       "149115                     2         8   Hell's Kitchen          64   \n",
       "\n",
       "        unit_price    product_category           product_type  \\\n",
       "0             3.00              Coffee  Gourmet brewed coffee   \n",
       "1             3.10                 Tea        Brewed Chai tea   \n",
       "2             4.50  Drinking Chocolate          Hot chocolate   \n",
       "3             2.00              Coffee            Drip coffee   \n",
       "4             3.10                 Tea        Brewed Chai tea   \n",
       "...            ...                 ...                    ...   \n",
       "149111        2.50                 Tea      Brewed herbal tea   \n",
       "149112        3.00                 Tea       Brewed Black tea   \n",
       "149113        3.00                 Tea      Brewed herbal tea   \n",
       "149114        3.75              Coffee       Barista Espresso   \n",
       "149115        0.80            Flavours          Regular syrup   \n",
       "\n",
       "                     product_detail  \n",
       "0                       Ethiopia Rg  \n",
       "1          Spicy Eye Opener Chai Lg  \n",
       "2                 Dark chocolate Lg  \n",
       "3       Our Old Time Diner Blend Sm  \n",
       "4          Spicy Eye Opener Chai Lg  \n",
       "...                             ...  \n",
       "149111                Peppermint Rg  \n",
       "149112         English Breakfast Lg  \n",
       "149113                Peppermint Lg  \n",
       "149114                   Cappuccino  \n",
       "149115               Hazelnut syrup  \n",
       "\n",
       "[149116 rows x 11 columns]"
      ]
     },
     "execution_count": 195,
     "metadata": {},
     "output_type": "execute_result"
    }
   ],
   "source": [
    "df = pd.read_excel(\"Downloads\\Data-Coffee Shop Sales.xlsx\") \n",
    "df"
   ]
  },
  {
   "cell_type": "code",
   "execution_count": 196,
   "id": "074f29e4",
   "metadata": {},
   "outputs": [
    {
     "name": "stdout",
     "output_type": "stream",
     "text": [
      "<class 'pandas.core.frame.DataFrame'>\n",
      "RangeIndex: 149116 entries, 0 to 149115\n",
      "Data columns (total 11 columns):\n",
      " #   Column                Non-Null Count   Dtype         \n",
      "---  ------                --------------   -----         \n",
      " 0   transaction_id        149116 non-null  int64         \n",
      " 1   transaction_date      149116 non-null  datetime64[ns]\n",
      " 2   transaction_time      149116 non-null  object        \n",
      " 3   transaction_quantity  149116 non-null  int64         \n",
      " 4   store_id              149116 non-null  int64         \n",
      " 5   store_location        149116 non-null  object        \n",
      " 6   product_id            149116 non-null  int64         \n",
      " 7   unit_price            149116 non-null  float64       \n",
      " 8   product_category      149116 non-null  object        \n",
      " 9   product_type          149116 non-null  object        \n",
      " 10  product_detail        149116 non-null  object        \n",
      "dtypes: datetime64[ns](1), float64(1), int64(4), object(5)\n",
      "memory usage: 12.5+ MB\n"
     ]
    }
   ],
   "source": [
    "df.info()"
   ]
  },
  {
   "cell_type": "code",
   "execution_count": 197,
   "id": "9968eb52",
   "metadata": {},
   "outputs": [
    {
     "data": {
      "text/plain": [
       "transaction_id          0\n",
       "transaction_date        0\n",
       "transaction_time        0\n",
       "transaction_quantity    0\n",
       "store_id                0\n",
       "store_location          0\n",
       "product_id              0\n",
       "unit_price              0\n",
       "product_category        0\n",
       "product_type            0\n",
       "product_detail          0\n",
       "dtype: int64"
      ]
     },
     "execution_count": 197,
     "metadata": {},
     "output_type": "execute_result"
    }
   ],
   "source": [
    "df.isna().sum()"
   ]
  },
  {
   "cell_type": "markdown",
   "id": "b49ac383",
   "metadata": {},
   "source": [
    "Проанализировав информацию о данных, узнали, что все в норме. В выбранных мной данных нет пропуски."
   ]
  },
  {
   "cell_type": "code",
   "execution_count": 198,
   "id": "33cbcb61",
   "metadata": {},
   "outputs": [
    {
     "data": {
      "text/html": [
       "<div>\n",
       "<style scoped>\n",
       "    .dataframe tbody tr th:only-of-type {\n",
       "        vertical-align: middle;\n",
       "    }\n",
       "\n",
       "    .dataframe tbody tr th {\n",
       "        vertical-align: top;\n",
       "    }\n",
       "\n",
       "    .dataframe thead th {\n",
       "        text-align: right;\n",
       "    }\n",
       "</style>\n",
       "<table border=\"1\" class=\"dataframe\">\n",
       "  <thead>\n",
       "    <tr style=\"text-align: right;\">\n",
       "      <th></th>\n",
       "      <th>transaction_time</th>\n",
       "      <th>store_location</th>\n",
       "      <th>product_category</th>\n",
       "      <th>product_type</th>\n",
       "      <th>product_detail</th>\n",
       "    </tr>\n",
       "  </thead>\n",
       "  <tbody>\n",
       "    <tr>\n",
       "      <th>count</th>\n",
       "      <td>149116</td>\n",
       "      <td>149116</td>\n",
       "      <td>149116</td>\n",
       "      <td>149116</td>\n",
       "      <td>149116</td>\n",
       "    </tr>\n",
       "    <tr>\n",
       "      <th>unique</th>\n",
       "      <td>25762</td>\n",
       "      <td>3</td>\n",
       "      <td>9</td>\n",
       "      <td>29</td>\n",
       "      <td>80</td>\n",
       "    </tr>\n",
       "    <tr>\n",
       "      <th>top</th>\n",
       "      <td>09:31:15</td>\n",
       "      <td>Hell's Kitchen</td>\n",
       "      <td>Coffee</td>\n",
       "      <td>Brewed Chai tea</td>\n",
       "      <td>Chocolate Croissant</td>\n",
       "    </tr>\n",
       "    <tr>\n",
       "      <th>freq</th>\n",
       "      <td>41</td>\n",
       "      <td>50735</td>\n",
       "      <td>58416</td>\n",
       "      <td>17183</td>\n",
       "      <td>3076</td>\n",
       "    </tr>\n",
       "  </tbody>\n",
       "</table>\n",
       "</div>"
      ],
      "text/plain": [
       "       transaction_time  store_location product_category     product_type  \\\n",
       "count            149116          149116           149116           149116   \n",
       "unique            25762               3                9               29   \n",
       "top            09:31:15  Hell's Kitchen           Coffee  Brewed Chai tea   \n",
       "freq                 41           50735            58416            17183   \n",
       "\n",
       "             product_detail  \n",
       "count                149116  \n",
       "unique                   80  \n",
       "top     Chocolate Croissant  \n",
       "freq                   3076  "
      ]
     },
     "execution_count": 198,
     "metadata": {},
     "output_type": "execute_result"
    }
   ],
   "source": [
    "df.describe(include = object)"
   ]
  },
  {
   "cell_type": "markdown",
   "id": "66da88f2",
   "metadata": {},
   "source": [
    "Из приведенной выше информации мы узнали, что кофейня имеет 3 сеть и 9 видов 29 продуктов. Самый посещаемый сеть — «Hell's Kitchen», а самый покупаемый товар — Brewed Chai tea."
   ]
  },
  {
   "cell_type": "markdown",
   "id": "c3c6d1b0",
   "metadata": {},
   "source": [
    "Не нужны ID транзакции, ID магазина и ID продукта для анализа, поэтому я удалила их. Также добавлен новый столбец месяца для анализа месяцев."
   ]
  },
  {
   "cell_type": "code",
   "execution_count": 199,
   "id": "d11a974a",
   "metadata": {},
   "outputs": [],
   "source": [
    "df.drop(columns = [\"transaction_id\", \"store_id\", \"product_id\"], inplace = True)"
   ]
  },
  {
   "cell_type": "code",
   "execution_count": 200,
   "id": "5ca9c37b",
   "metadata": {},
   "outputs": [
    {
     "data": {
      "text/html": [
       "<div>\n",
       "<style scoped>\n",
       "    .dataframe tbody tr th:only-of-type {\n",
       "        vertical-align: middle;\n",
       "    }\n",
       "\n",
       "    .dataframe tbody tr th {\n",
       "        vertical-align: top;\n",
       "    }\n",
       "\n",
       "    .dataframe thead th {\n",
       "        text-align: right;\n",
       "    }\n",
       "</style>\n",
       "<table border=\"1\" class=\"dataframe\">\n",
       "  <thead>\n",
       "    <tr style=\"text-align: right;\">\n",
       "      <th></th>\n",
       "      <th>transaction_date</th>\n",
       "      <th>transaction_time</th>\n",
       "      <th>transaction_quantity</th>\n",
       "      <th>store_location</th>\n",
       "      <th>unit_price</th>\n",
       "      <th>product_category</th>\n",
       "      <th>product_type</th>\n",
       "      <th>product_detail</th>\n",
       "      <th>month</th>\n",
       "    </tr>\n",
       "  </thead>\n",
       "  <tbody>\n",
       "    <tr>\n",
       "      <th>0</th>\n",
       "      <td>2023-01-01</td>\n",
       "      <td>07:06:11</td>\n",
       "      <td>2</td>\n",
       "      <td>Lower Manhattan</td>\n",
       "      <td>3.00</td>\n",
       "      <td>Coffee</td>\n",
       "      <td>Gourmet brewed coffee</td>\n",
       "      <td>Ethiopia Rg</td>\n",
       "      <td>1</td>\n",
       "    </tr>\n",
       "    <tr>\n",
       "      <th>1</th>\n",
       "      <td>2023-01-01</td>\n",
       "      <td>07:08:56</td>\n",
       "      <td>2</td>\n",
       "      <td>Lower Manhattan</td>\n",
       "      <td>3.10</td>\n",
       "      <td>Tea</td>\n",
       "      <td>Brewed Chai tea</td>\n",
       "      <td>Spicy Eye Opener Chai Lg</td>\n",
       "      <td>1</td>\n",
       "    </tr>\n",
       "    <tr>\n",
       "      <th>2</th>\n",
       "      <td>2023-01-01</td>\n",
       "      <td>07:14:04</td>\n",
       "      <td>2</td>\n",
       "      <td>Lower Manhattan</td>\n",
       "      <td>4.50</td>\n",
       "      <td>Drinking Chocolate</td>\n",
       "      <td>Hot chocolate</td>\n",
       "      <td>Dark chocolate Lg</td>\n",
       "      <td>1</td>\n",
       "    </tr>\n",
       "    <tr>\n",
       "      <th>3</th>\n",
       "      <td>2023-01-01</td>\n",
       "      <td>07:20:24</td>\n",
       "      <td>1</td>\n",
       "      <td>Lower Manhattan</td>\n",
       "      <td>2.00</td>\n",
       "      <td>Coffee</td>\n",
       "      <td>Drip coffee</td>\n",
       "      <td>Our Old Time Diner Blend Sm</td>\n",
       "      <td>1</td>\n",
       "    </tr>\n",
       "    <tr>\n",
       "      <th>4</th>\n",
       "      <td>2023-01-01</td>\n",
       "      <td>07:22:41</td>\n",
       "      <td>2</td>\n",
       "      <td>Lower Manhattan</td>\n",
       "      <td>3.10</td>\n",
       "      <td>Tea</td>\n",
       "      <td>Brewed Chai tea</td>\n",
       "      <td>Spicy Eye Opener Chai Lg</td>\n",
       "      <td>1</td>\n",
       "    </tr>\n",
       "    <tr>\n",
       "      <th>...</th>\n",
       "      <td>...</td>\n",
       "      <td>...</td>\n",
       "      <td>...</td>\n",
       "      <td>...</td>\n",
       "      <td>...</td>\n",
       "      <td>...</td>\n",
       "      <td>...</td>\n",
       "      <td>...</td>\n",
       "      <td>...</td>\n",
       "    </tr>\n",
       "    <tr>\n",
       "      <th>149111</th>\n",
       "      <td>2023-06-30</td>\n",
       "      <td>20:18:41</td>\n",
       "      <td>2</td>\n",
       "      <td>Hell's Kitchen</td>\n",
       "      <td>2.50</td>\n",
       "      <td>Tea</td>\n",
       "      <td>Brewed herbal tea</td>\n",
       "      <td>Peppermint Rg</td>\n",
       "      <td>6</td>\n",
       "    </tr>\n",
       "    <tr>\n",
       "      <th>149112</th>\n",
       "      <td>2023-06-30</td>\n",
       "      <td>20:25:10</td>\n",
       "      <td>2</td>\n",
       "      <td>Hell's Kitchen</td>\n",
       "      <td>3.00</td>\n",
       "      <td>Tea</td>\n",
       "      <td>Brewed Black tea</td>\n",
       "      <td>English Breakfast Lg</td>\n",
       "      <td>6</td>\n",
       "    </tr>\n",
       "    <tr>\n",
       "      <th>149113</th>\n",
       "      <td>2023-06-30</td>\n",
       "      <td>20:31:34</td>\n",
       "      <td>1</td>\n",
       "      <td>Hell's Kitchen</td>\n",
       "      <td>3.00</td>\n",
       "      <td>Tea</td>\n",
       "      <td>Brewed herbal tea</td>\n",
       "      <td>Peppermint Lg</td>\n",
       "      <td>6</td>\n",
       "    </tr>\n",
       "    <tr>\n",
       "      <th>149114</th>\n",
       "      <td>2023-06-30</td>\n",
       "      <td>20:57:19</td>\n",
       "      <td>1</td>\n",
       "      <td>Hell's Kitchen</td>\n",
       "      <td>3.75</td>\n",
       "      <td>Coffee</td>\n",
       "      <td>Barista Espresso</td>\n",
       "      <td>Cappuccino</td>\n",
       "      <td>6</td>\n",
       "    </tr>\n",
       "    <tr>\n",
       "      <th>149115</th>\n",
       "      <td>2023-06-30</td>\n",
       "      <td>20:57:19</td>\n",
       "      <td>2</td>\n",
       "      <td>Hell's Kitchen</td>\n",
       "      <td>0.80</td>\n",
       "      <td>Flavours</td>\n",
       "      <td>Regular syrup</td>\n",
       "      <td>Hazelnut syrup</td>\n",
       "      <td>6</td>\n",
       "    </tr>\n",
       "  </tbody>\n",
       "</table>\n",
       "<p>149116 rows × 9 columns</p>\n",
       "</div>"
      ],
      "text/plain": [
       "       transaction_date transaction_time  transaction_quantity  \\\n",
       "0            2023-01-01         07:06:11                     2   \n",
       "1            2023-01-01         07:08:56                     2   \n",
       "2            2023-01-01         07:14:04                     2   \n",
       "3            2023-01-01         07:20:24                     1   \n",
       "4            2023-01-01         07:22:41                     2   \n",
       "...                 ...              ...                   ...   \n",
       "149111       2023-06-30         20:18:41                     2   \n",
       "149112       2023-06-30         20:25:10                     2   \n",
       "149113       2023-06-30         20:31:34                     1   \n",
       "149114       2023-06-30         20:57:19                     1   \n",
       "149115       2023-06-30         20:57:19                     2   \n",
       "\n",
       "         store_location  unit_price    product_category  \\\n",
       "0       Lower Manhattan        3.00              Coffee   \n",
       "1       Lower Manhattan        3.10                 Tea   \n",
       "2       Lower Manhattan        4.50  Drinking Chocolate   \n",
       "3       Lower Manhattan        2.00              Coffee   \n",
       "4       Lower Manhattan        3.10                 Tea   \n",
       "...                 ...         ...                 ...   \n",
       "149111   Hell's Kitchen        2.50                 Tea   \n",
       "149112   Hell's Kitchen        3.00                 Tea   \n",
       "149113   Hell's Kitchen        3.00                 Tea   \n",
       "149114   Hell's Kitchen        3.75              Coffee   \n",
       "149115   Hell's Kitchen        0.80            Flavours   \n",
       "\n",
       "                 product_type               product_detail  month  \n",
       "0       Gourmet brewed coffee                  Ethiopia Rg      1  \n",
       "1             Brewed Chai tea     Spicy Eye Opener Chai Lg      1  \n",
       "2               Hot chocolate            Dark chocolate Lg      1  \n",
       "3                 Drip coffee  Our Old Time Diner Blend Sm      1  \n",
       "4             Brewed Chai tea     Spicy Eye Opener Chai Lg      1  \n",
       "...                       ...                          ...    ...  \n",
       "149111      Brewed herbal tea                Peppermint Rg      6  \n",
       "149112       Brewed Black tea         English Breakfast Lg      6  \n",
       "149113      Brewed herbal tea                Peppermint Lg      6  \n",
       "149114       Barista Espresso                   Cappuccino      6  \n",
       "149115          Regular syrup               Hazelnut syrup      6  \n",
       "\n",
       "[149116 rows x 9 columns]"
      ]
     },
     "execution_count": 200,
     "metadata": {},
     "output_type": "execute_result"
    }
   ],
   "source": [
    "df['month'] = df['transaction_date'].dt.month\n",
    "df"
   ]
  },
  {
   "cell_type": "markdown",
   "id": "05004df6",
   "metadata": {},
   "source": [
    "# Шаг 4. Визуализация"
   ]
  },
  {
   "cell_type": "markdown",
   "id": "0a16b5d0",
   "metadata": {},
   "source": [
    "# 1. Популярный продукт"
   ]
  },
  {
   "cell_type": "markdown",
   "id": "50e3f443",
   "metadata": {},
   "source": [
    "Что люди покупают больше всего? Какой продукт наиболее популярен? Давайте построим следующий график, чтобы ответить на эти вопросы"
   ]
  },
  {
   "cell_type": "code",
   "execution_count": 201,
   "id": "810b2398",
   "metadata": {},
   "outputs": [
    {
     "data": {
      "image/png": "[encoded data removed]",
      "text/plain": [
       "<Figure size 640x480 with 1 Axes>"
      ]
     },
     "metadata": {},
     "output_type": "display_data"
    }
   ],
   "source": [
    "bar = df.groupby('product_type')['transaction_quantity'].count()\n",
    "bar.sort_values().plot(kind='bar', color='royalblue')\n",
    "plt.xlabel('Тип продукта', fontsize=12)\n",
    "plt.ylabel('Количество проданной продукции', fontsize=12)\n",
    "plt.title('Продажи продукции за пол года', fontsize=15)\n",
    "plt.show()"
   ]
  },
  {
   "cell_type": "markdown",
   "id": "52665054",
   "metadata": {},
   "source": [
    "Если посмотреть на график, то самым покупаемым продуктом является Brewed Chai tea. Наименее покупаемый продукт —Green beans . Также больше всего продается кофейная и чайная продукция."
   ]
  },
  {
   "cell_type": "markdown",
   "id": "ba8c32fc",
   "metadata": {},
   "source": [
    "# 2. Объем продаж"
   ]
  },
  {
   "cell_type": "code",
   "execution_count": 202,
   "id": "5b6f9dfe",
   "metadata": {},
   "outputs": [
    {
     "data": {
      "image/png": "[encoded data removed]",
      "text/plain": [
       "<Figure size 1000x600 with 1 Axes>"
      ]
     },
     "metadata": {},
     "output_type": "display_data"
    }
   ],
   "source": [
    "bar = df.groupby('month')['transaction_quantity'].sum()\n",
    "plt.figure(figsize=(10, 6))\n",
    "sns.barplot(x=bar.index, y=bar.values, color='skyblue', palette = \"RdBu\")\n",
    "plt.xlabel('Месяцы')\n",
    "plt.ylabel('Продажи')\n",
    "plt.title('График объема продаж')\n",
    "plt.show()"
   ]
  },
  {
   "cell_type": "markdown",
   "id": "ff2285e9",
   "metadata": {},
   "source": [
    "Как видите, известно, что продажи продукции стабильно росли с февраля по июнь. Поскольку погода становится теплее и на улице становится жарче, можно с уверенностью предположить, что люди будут посещать больше кафе."
   ]
  },
  {
   "cell_type": "markdown",
   "id": "a92fe637",
   "metadata": {},
   "source": [
    "# 3. Продукт-сотоварищи"
   ]
  },
  {
   "cell_type": "markdown",
   "id": "99a1f726",
   "metadata": {},
   "source": [
    "Большую часть времени люди в кофейнях покупают один продукт, тогда как в нашем наборе данных есть продукты, купленные вместе. Это можно определить во время транзакции заказа, давайте вместе посмотрим два наиболее часто покупаемых продукта."
   ]
  },
  {
   "cell_type": "code",
   "execution_count": 203,
   "id": "d31d79e9",
   "metadata": {},
   "outputs": [
    {
     "data": {
      "text/plain": [
       "0.5062062594663386"
      ]
     },
     "execution_count": 203,
     "metadata": {},
     "output_type": "execute_result"
    }
   ],
   "source": [
    "table = pd.pivot_table(df, index = 'transaction_time', values = 'transaction_quantity', \n",
    "                       columns = 'product_type', aggfunc = np.sum)\n",
    "table = table.fillna(0)\n",
    "table[table !=0] = 1\n",
    "Rcorr = table.corr()-np.eye(29)\n",
    "twoproduct = Rcorr.max().values.max()\n",
    "twoproduct"
   ]
  },
  {
   "cell_type": "code",
   "execution_count": 204,
   "id": "e1972a8c",
   "metadata": {},
   "outputs": [
    {
     "data": {
      "text/plain": [
       "('Barista Espresso', 'Regular syrup')"
      ]
     },
     "execution_count": 204,
     "metadata": {},
     "output_type": "execute_result"
    }
   ],
   "source": [
    "table.corr()[table.corr()==twoproduct].stack().index.tolist()[0]"
   ]
  },
  {
   "cell_type": "markdown",
   "id": "606ff9c2",
   "metadata": {},
   "source": [
    "Давайте создадим тепловую карту и посмотрим, как все продукты сочетаются друг с другом."
   ]
  },
  {
   "cell_type": "code",
   "execution_count": 205,
   "id": "66c26e8d",
   "metadata": {},
   "outputs": [
    {
     "data": {
      "text/plain": [
       "<Axes: xlabel='product_type', ylabel='product_type'>"
      ]
     },
     "execution_count": 205,
     "metadata": {},
     "output_type": "execute_result"
    },
    {
     "data": {
      "image/png": "[encoded data removed]",
      "text/plain": [
       "<Figure size 640x480 with 2 Axes>"
      ]
     },
     "metadata": {},
     "output_type": "display_data"
    }
   ],
   "source": [
    "sns.heatmap(data=Rcorr, cmap=\"YlGnBu\")"
   ]
  },
  {
   "cell_type": "markdown",
   "id": "225b4980",
   "metadata": {},
   "source": [
    "Люди обычно покупают кофе эспрессо с двумя видами сиропа."
   ]
  },
  {
   "cell_type": "markdown",
   "id": "341dc4ed",
   "metadata": {},
   "source": [
    "# 4. Сеть кафе"
   ]
  },
  {
   "cell_type": "markdown",
   "id": "b180423e",
   "metadata": {},
   "source": [
    "В наших данных есть 3 сеть кафе. Давайте посмотрим, какой сеть приносит больше всего доходов."
   ]
  },
  {
   "cell_type": "code",
   "execution_count": 206,
   "id": "f578d331",
   "metadata": {},
   "outputs": [
    {
     "data": {
      "text/plain": [
       "store_location\n",
       "Astoria            232243.91\n",
       "Hell's Kitchen     236511.17\n",
       "Lower Manhattan    230057.25\n",
       "Name: income, dtype: float64"
      ]
     },
     "execution_count": 206,
     "metadata": {},
     "output_type": "execute_result"
    }
   ],
   "source": [
    "df['income']=df['transaction_quantity']*df['unit_price']\n",
    "df.groupby('store_location')['income'].sum()"
   ]
  },
  {
   "cell_type": "code",
   "execution_count": 207,
   "id": "89cdfad6",
   "metadata": {},
   "outputs": [
    {
     "data": {
      "image/png": "[encoded data removed]",
      "text/plain": [
       "<Figure size 640x480 with 1 Axes>"
      ]
     },
     "metadata": {},
     "output_type": "display_data"
    }
   ],
   "source": [
    "plt.pie(df.groupby('store_location')['income'].sum(), \n",
    "        labels =['Astoria', 'Hells Kitchen', 'Lower Manhattan'], \n",
    "        autopct='%1.1f%%', colors=['skyblue', 'cornflowerblue', 'royalblue'])\n",
    "plt.show()"
   ]
  },
  {
   "cell_type": "markdown",
   "id": "0ec78fc0",
   "metadata": {},
   "source": [
    "# 5. Время"
   ]
  },
  {
   "cell_type": "markdown",
   "id": "986c7fa9",
   "metadata": {},
   "source": [
    "Давайте добавим столбец времени, чтобы увидеть, в какое время в кофейне больше всего транзакцей."
   ]
  },
  {
   "cell_type": "code",
   "execution_count": 208,
   "id": "430699bc",
   "metadata": {},
   "outputs": [
    {
     "data": {
      "image/png": "[encoded data removed]",
      "text/plain": [
       "<Figure size 640x480 with 1 Axes>"
      ]
     },
     "metadata": {},
     "output_type": "display_data"
    }
   ],
   "source": [
    "time = df[\"transaction_time\"].apply(lambda x : x.hour)\n",
    "sns.kdeplot(data=time)\n",
    "plt.title('')\n",
    "plt.show()"
   ]
  },
  {
   "cell_type": "markdown",
   "id": "060a4089",
   "metadata": {},
   "source": [
    "Это означает, что большая часть транзакций происходит с 8 до 11 утра. Зная эту информацию, может возникнуть необходимость найма дополнительных сотрудников на неполный рабочий день в утренние часы."
   ]
  },
  {
   "cell_type": "markdown",
   "id": "b96b5b50",
   "metadata": {},
   "source": [
    "# 6.Популярный категория продукта"
   ]
  },
  {
   "cell_type": "code",
   "execution_count": 209,
   "id": "b14f03ed",
   "metadata": {},
   "outputs": [
    {
     "data": {
      "application/vnd.plotly.v1+json": {
       "config": {
        "linkText": "Export to plot.ly",
        "plotlyServerURL": "https://plot.ly",
        "showLink": false
       },
       "data": [
        {
         "alignmentgroup": "True",
         "hovertemplate": "Product Category=%{x}<br>Count=%{y}<extra></extra>",
         "legendgroup": "",
         "marker": {
          "color": "#636efa",
          "pattern": {
           "shape": ""
          }
         },
         "name": "",
         "offsetgroup": "",
         "orientation": "v",
         "showlegend": false,
         "textposition": "auto",
         "type": "bar",
         "x": [
          "Coffee",
          "Tea",
          "Bakery",
          "Drinking Chocolate",
          "Flavours",
          "Coffee beans",
          "Loose Tea",
          "Branded",
          "Packaged Chocolate"
         ],
         "xaxis": "x",
         "y": [
          58416,
          45449,
          22796,
          11468,
          6790,
          1753,
          1210,
          747,
          487
         ],
         "yaxis": "y"
        }
       ],
       "layout": {
        "barmode": "relative",
        "legend": {
         "tracegroupgap": 0
        },
        "template": {
         "data": {
          "bar": [
           {
            "error_x": {
             "color": "#2a3f5f"
            },
            "error_y": {
             "color": "#2a3f5f"
            },
            "marker": {
             "line": {
              "color": "#E5ECF6",
              "width": 0.5
             },
             "pattern": {
              "fillmode": "overlay",
              "size": 10,
              "solidity": 0.2
             }
            },
            "type": "bar"
           }
          ],
          "barpolar": [
           {
            "marker": {
             "line": {
              "color": "#E5ECF6",
              "width": 0.5
             },
             "pattern": {
              "fillmode": "overlay",
              "size": 10,
              "solidity": 0.2
             }
            },
            "type": "barpolar"
           }
          ],
          "carpet": [
           {
            "aaxis": {
             "endlinecolor": "#2a3f5f",
             "gridcolor": "white",
             "linecolor": "white",
             "minorgridcolor": "white",
             "startlinecolor": "#2a3f5f"
            },
            "baxis": {
             "endlinecolor": "#2a3f5f",
             "gridcolor": "white",
             "linecolor": "white",
             "minorgridcolor": "white",
             "startlinecolor": "#2a3f5f"
            },
            "type": "carpet"
           }
          ],
          "choropleth": [
           {
            "colorbar": {
             "outlinewidth": 0,
             "ticks": ""
            },
            "type": "choropleth"
           }
          ],
          "contour": [
           {
            "colorbar": {
             "outlinewidth": 0,
             "ticks": ""
            },
            "colorscale": [
             [
              0,
              "#0d0887"
             ],
             [
              0.1111111111111111,
              "#46039f"
             ],
             [
              0.2222222222222222,
              "#7201a8"
             ],
             [
              0.3333333333333333,
              "#9c179e"
             ],
             [
              0.4444444444444444,
              "#bd3786"
             ],
             [
              0.5555555555555556,
              "#d8576b"
             ],
             [
              0.6666666666666666,
              "#ed7953"
             ],
             [
              0.7777777777777778,
              "#fb9f3a"
             ],
             [
              0.8888888888888888,
              "#fdca26"
             ],
             [
              1,
              "#f0f921"
             ]
            ],
            "type": "contour"
           }
          ],
          "contourcarpet": [
           {
            "colorbar": {
             "outlinewidth": 0,
             "ticks": ""
            },
            "type": "contourcarpet"
           }
          ],
          "heatmap": [
           {
            "colorbar": {
             "outlinewidth": 0,
             "ticks": ""
            },
            "colorscale": [
             [
              0,
              "#0d0887"
             ],
             [
              0.1111111111111111,
              "#46039f"
             ],
             [
              0.2222222222222222,
              "#7201a8"
             ],
             [
              0.3333333333333333,
              "#9c179e"
             ],
             [
              0.4444444444444444,
              "#bd3786"
             ],
             [
              0.5555555555555556,
              "#d8576b"
             ],
             [
              0.6666666666666666,
              "#ed7953"
             ],
             [
              0.7777777777777778,
              "#fb9f3a"
             ],
             [
              0.8888888888888888,
              "#fdca26"
             ],
             [
              1,
              "#f0f921"
             ]
            ],
            "type": "heatmap"
           }
          ],
          "heatmapgl": [
           {
            "colorbar": {
             "outlinewidth": 0,
             "ticks": ""
            },
            "colorscale": [
             [
              0,
              "#0d0887"
             ],
             [
              0.1111111111111111,
              "#46039f"
             ],
             [
              0.2222222222222222,
              "#7201a8"
             ],
             [
              0.3333333333333333,
              "#9c179e"
             ],
             [
              0.4444444444444444,
              "#bd3786"
             ],
             [
              0.5555555555555556,
              "#d8576b"
             ],
             [
              0.6666666666666666,
              "#ed7953"
             ],
             [
              0.7777777777777778,
              "#fb9f3a"
             ],
             [
              0.8888888888888888,
              "#fdca26"
             ],
             [
              1,
              "#f0f921"
             ]
            ],
            "type": "heatmapgl"
           }
          ],
          "histogram": [
           {
            "marker": {
             "pattern": {
              "fillmode": "overlay",
              "size": 10,
              "solidity": 0.2
             }
            },
            "type": "histogram"
           }
          ],
          "histogram2d": [
           {
            "colorbar": {
             "outlinewidth": 0,
             "ticks": ""
            },
            "colorscale": [
             [
              0,
              "#0d0887"
             ],
             [
              0.1111111111111111,
              "#46039f"
             ],
             [
              0.2222222222222222,
              "#7201a8"
             ],
             [
              0.3333333333333333,
              "#9c179e"
             ],
             [
              0.4444444444444444,
              "#bd3786"
             ],
             [
              0.5555555555555556,
              "#d8576b"
             ],
             [
              0.6666666666666666,
              "#ed7953"
             ],
             [
              0.7777777777777778,
              "#fb9f3a"
             ],
             [
              0.8888888888888888,
              "#fdca26"
             ],
             [
              1,
              "#f0f921"
             ]
            ],
            "type": "histogram2d"
           }
          ],
          "histogram2dcontour": [
           {
            "colorbar": {
             "outlinewidth": 0,
             "ticks": ""
            },
            "colorscale": [
             [
              0,
              "#0d0887"
             ],
             [
              0.1111111111111111,
              "#46039f"
             ],
             [
              0.2222222222222222,
              "#7201a8"
             ],
             [
              0.3333333333333333,
              "#9c179e"
             ],
             [
              0.4444444444444444,
              "#bd3786"
             ],
             [
              0.5555555555555556,
              "#d8576b"
             ],
             [
              0.6666666666666666,
              "#ed7953"
             ],
             [
              0.7777777777777778,
              "#fb9f3a"
             ],
             [
              0.8888888888888888,
              "#fdca26"
             ],
             [
              1,
              "#f0f921"
             ]
            ],
            "type": "histogram2dcontour"
           }
          ],
          "mesh3d": [
           {
            "colorbar": {
             "outlinewidth": 0,
             "ticks": ""
            },
            "type": "mesh3d"
           }
          ],
          "parcoords": [
           {
            "line": {
             "colorbar": {
              "outlinewidth": 0,
              "ticks": ""
             }
            },
            "type": "parcoords"
           }
          ],
          "pie": [
           {
            "automargin": true,
            "type": "pie"
           }
          ],
          "scatter": [
           {
            "fillpattern": {
             "fillmode": "overlay",
             "size": 10,
             "solidity": 0.2
            },
            "type": "scatter"
           }
          ],
          "scatter3d": [
           {
            "line": {
             "colorbar": {
              "outlinewidth": 0,
              "ticks": ""
             }
            },
            "marker": {
             "colorbar": {
              "outlinewidth": 0,
              "ticks": ""
             }
            },
            "type": "scatter3d"
           }
          ],
          "scattercarpet": [
           {
            "marker": {
             "colorbar": {
              "outlinewidth": 0,
              "ticks": ""
             }
            },
            "type": "scattercarpet"
           }
          ],
          "scattergeo": [
           {
            "marker": {
             "colorbar": {
              "outlinewidth": 0,
              "ticks": ""
             }
            },
            "type": "scattergeo"
           }
          ],
          "scattergl": [
           {
            "marker": {
             "colorbar": {
              "outlinewidth": 0,
              "ticks": ""
             }
            },
            "type": "scattergl"
           }
          ],
          "scattermapbox": [
           {
            "marker": {
             "colorbar": {
              "outlinewidth": 0,
              "ticks": ""
             }
            },
            "type": "scattermapbox"
           }
          ],
          "scatterpolar": [
           {
            "marker": {
             "colorbar": {
              "outlinewidth": 0,
              "ticks": ""
             }
            },
            "type": "scatterpolar"
           }
          ],
          "scatterpolargl": [
           {
            "marker": {
             "colorbar": {
              "outlinewidth": 0,
              "ticks": ""
             }
            },
            "type": "scatterpolargl"
           }
          ],
          "scatterternary": [
           {
            "marker": {
             "colorbar": {
              "outlinewidth": 0,
              "ticks": ""
             }
            },
            "type": "scatterternary"
           }
          ],
          "surface": [
           {
            "colorbar": {
             "outlinewidth": 0,
             "ticks": ""
            },
            "colorscale": [
             [
              0,
              "#0d0887"
             ],
             [
              0.1111111111111111,
              "#46039f"
             ],
             [
              0.2222222222222222,
              "#7201a8"
             ],
             [
              0.3333333333333333,
              "#9c179e"
             ],
             [
              0.4444444444444444,
              "#bd3786"
             ],
             [
              0.5555555555555556,
              "#d8576b"
             ],
             [
              0.6666666666666666,
              "#ed7953"
             ],
             [
              0.7777777777777778,
              "#fb9f3a"
             ],
             [
              0.8888888888888888,
              "#fdca26"
             ],
             [
              1,
              "#f0f921"
             ]
            ],
            "type": "surface"
           }
          ],
          "table": [
           {
            "cells": {
             "fill": {
              "color": "#EBF0F8"
             },
             "line": {
              "color": "white"
             }
            },
            "header": {
             "fill": {
              "color": "#C8D4E3"
             },
             "line": {
              "color": "white"
             }
            },
            "type": "table"
           }
          ]
         },
         "layout": {
          "annotationdefaults": {
           "arrowcolor": "#2a3f5f",
           "arrowhead": 0,
           "arrowwidth": 1
          },
          "autotypenumbers": "strict",
          "coloraxis": {
           "colorbar": {
            "outlinewidth": 0,
            "ticks": ""
           }
          },
          "colorscale": {
           "diverging": [
            [
             0,
             "#8e0152"
            ],
            [
             0.1,
             "#c51b7d"
            ],
            [
             0.2,
             "#de77ae"
            ],
            [
             0.3,
             "#f1b6da"
            ],
            [
             0.4,
             "#fde0ef"
            ],
            [
             0.5,
             "#f7f7f7"
            ],
            [
             0.6,
             "#e6f5d0"
            ],
            [
             0.7,
             "#b8e186"
            ],
            [
             0.8,
             "#7fbc41"
            ],
            [
             0.9,
             "#4d9221"
            ],
            [
             1,
             "#276419"
            ]
           ],
           "sequential": [
            [
             0,
             "#0d0887"
            ],
            [
             0.1111111111111111,
             "#46039f"
            ],
            [
             0.2222222222222222,
             "#7201a8"
            ],
            [
             0.3333333333333333,
             "#9c179e"
            ],
            [
             0.4444444444444444,
             "#bd3786"
            ],
            [
             0.5555555555555556,
             "#d8576b"
            ],
            [
             0.6666666666666666,
             "#ed7953"
            ],
            [
             0.7777777777777778,
             "#fb9f3a"
            ],
            [
             0.8888888888888888,
             "#fdca26"
            ],
            [
             1,
             "#f0f921"
            ]
           ],
           "sequentialminus": [
            [
             0,
             "#0d0887"
            ],
            [
             0.1111111111111111,
             "#46039f"
            ],
            [
             0.2222222222222222,
             "#7201a8"
            ],
            [
             0.3333333333333333,
             "#9c179e"
            ],
            [
             0.4444444444444444,
             "#bd3786"
            ],
            [
             0.5555555555555556,
             "#d8576b"
            ],
            [
             0.6666666666666666,
             "#ed7953"
            ],
            [
             0.7777777777777778,
             "#fb9f3a"
            ],
            [
             0.8888888888888888,
             "#fdca26"
            ],
            [
             1,
             "#f0f921"
            ]
           ]
          },
          "colorway": [
           "#636efa",
           "#EF553B",
           "#00cc96",
           "#ab63fa",
           "#FFA15A",
           "#19d3f3",
           "#FF6692",
           "#B6E880",
           "#FF97FF",
           "#FECB52"
          ],
          "font": {
           "color": "#2a3f5f"
          },
          "geo": {
           "bgcolor": "white",
           "lakecolor": "white",
           "landcolor": "#E5ECF6",
           "showlakes": true,
           "showland": true,
           "subunitcolor": "white"
          },
          "hoverlabel": {
           "align": "left"
          },
          "hovermode": "closest",
          "mapbox": {
           "style": "light"
          },
          "paper_bgcolor": "white",
          "plot_bgcolor": "#E5ECF6",
          "polar": {
           "angularaxis": {
            "gridcolor": "white",
            "linecolor": "white",
            "ticks": ""
           },
           "bgcolor": "#E5ECF6",
           "radialaxis": {
            "gridcolor": "white",
            "linecolor": "white",
            "ticks": ""
           }
          },
          "scene": {
           "xaxis": {
            "backgroundcolor": "#E5ECF6",
            "gridcolor": "white",
            "gridwidth": 2,
            "linecolor": "white",
            "showbackground": true,
            "ticks": "",
            "zerolinecolor": "white"
           },
           "yaxis": {
            "backgroundcolor": "#E5ECF6",
            "gridcolor": "white",
            "gridwidth": 2,
            "linecolor": "white",
            "showbackground": true,
            "ticks": "",
            "zerolinecolor": "white"
           },
           "zaxis": {
            "backgroundcolor": "#E5ECF6",
            "gridcolor": "white",
            "gridwidth": 2,
            "linecolor": "white",
            "showbackground": true,
            "ticks": "",
            "zerolinecolor": "white"
           }
          },
          "shapedefaults": {
           "line": {
            "color": "#2a3f5f"
           }
          },
          "ternary": {
           "aaxis": {
            "gridcolor": "white",
            "linecolor": "white",
            "ticks": ""
           },
           "baxis": {
            "gridcolor": "white",
            "linecolor": "white",
            "ticks": ""
           },
           "bgcolor": "#E5ECF6",
           "caxis": {
            "gridcolor": "white",
            "linecolor": "white",
            "ticks": ""
           }
          },
          "title": {
           "x": 0.05
          },
          "xaxis": {
           "automargin": true,
           "gridcolor": "white",
           "linecolor": "white",
           "ticks": "",
           "title": {
            "standoff": 15
           },
           "zerolinecolor": "white",
           "zerolinewidth": 2
          },
          "yaxis": {
           "automargin": true,
           "gridcolor": "white",
           "linecolor": "white",
           "ticks": "",
           "title": {
            "standoff": 15
           },
           "zerolinecolor": "white",
           "zerolinewidth": 2
          }
         }
        },
        "title": {
         "text": "Количество категорий"
        },
        "xaxis": {
         "anchor": "y",
         "domain": [
          0,
          1
         ],
         "title": {
          "text": "Product Category"
         }
        },
        "yaxis": {
         "anchor": "x",
         "domain": [
          0,
          1
         ],
         "title": {
          "text": "Count"
         }
        }
       }
      },
      "text/html": [
       "<div>                            <div id=\"59915f74-ce53-467a-99b2-8d5ac302348a\" class=\"plotly-graph-div\" style=\"height:525px; width:100%;\"></div>            <script type=\"text/javascript\">                require([\"plotly\"], function(Plotly) {                    window.PLOTLYENV=window.PLOTLYENV || {};                                    if (document.getElementById(\"59915f74-ce53-467a-99b2-8d5ac302348a\")) {                    Plotly.newPlot(                        \"59915f74-ce53-467a-99b2-8d5ac302348a\",                        [{\"alignmentgroup\":\"True\",\"hovertemplate\":\"Product Category=%{x}<br>Count=%{y}<extra></extra>\",\"legendgroup\":\"\",\"marker\":{\"color\":\"#636efa\",\"pattern\":{\"shape\":\"\"}},\"name\":\"\",\"offsetgroup\":\"\",\"orientation\":\"v\",\"showlegend\":false,\"textposition\":\"auto\",\"x\":[\"Coffee\",\"Tea\",\"Bakery\",\"Drinking Chocolate\",\"Flavours\",\"Coffee beans\",\"Loose Tea\",\"Branded\",\"Packaged Chocolate\"],\"xaxis\":\"x\",\"y\":[58416,45449,22796,11468,6790,1753,1210,747,487],\"yaxis\":\"y\",\"type\":\"bar\"}],                        {\"barmode\":\"relative\",\"legend\":{\"tracegroupgap\":0},\"template\":{\"data\":{\"barpolar\":[{\"marker\":{\"line\":{\"color\":\"#E5ECF6\",\"width\":0.5},\"pattern\":{\"fillmode\":\"overlay\",\"size\":10,\"solidity\":0.2}},\"type\":\"barpolar\"}],\"bar\":[{\"error_x\":{\"color\":\"#2a3f5f\"},\"error_y\":{\"color\":\"#2a3f5f\"},\"marker\":{\"line\":{\"color\":\"#E5ECF6\",\"width\":0.5},\"pattern\":{\"fillmode\":\"overlay\",\"size\":10,\"solidity\":0.2}},\"type\":\"bar\"}],\"carpet\":[{\"aaxis\":{\"endlinecolor\":\"#2a3f5f\",\"gridcolor\":\"white\",\"linecolor\":\"white\",\"minorgridcolor\":\"white\",\"startlinecolor\":\"#2a3f5f\"},\"baxis\":{\"endlinecolor\":\"#2a3f5f\",\"gridcolor\":\"white\",\"linecolor\":\"white\",\"minorgridcolor\":\"white\",\"startlinecolor\":\"#2a3f5f\"},\"type\":\"carpet\"}],\"choropleth\":[{\"colorbar\":{\"outlinewidth\":0,\"ticks\":\"\"},\"type\":\"choropleth\"}],\"contourcarpet\":[{\"colorbar\":{\"outlinewidth\":0,\"ticks\":\"\"},\"type\":\"contourcarpet\"}],\"contour\":[{\"colorbar\":{\"outlinewidth\":0,\"ticks\":\"\"},\"colorscale\":[[0.0,\"#0d0887\"],[0.1111111111111111,\"#46039f\"],[0.2222222222222222,\"#7201a8\"],[0.3333333333333333,\"#9c179e\"],[0.4444444444444444,\"#bd3786\"],[0.5555555555555556,\"#d8576b\"],[0.6666666666666666,\"#ed7953\"],[0.7777777777777778,\"#fb9f3a\"],[0.8888888888888888,\"#fdca26\"],[1.0,\"#f0f921\"]],\"type\":\"contour\"}],\"heatmapgl\":[{\"colorbar\":{\"outlinewidth\":0,\"ticks\":\"\"},\"colorscale\":[[0.0,\"#0d0887\"],[0.1111111111111111,\"#46039f\"],[0.2222222222222222,\"#7201a8\"],[0.3333333333333333,\"#9c179e\"],[0.4444444444444444,\"#bd3786\"],[0.5555555555555556,\"#d8576b\"],[0.6666666666666666,\"#ed7953\"],[0.7777777777777778,\"#fb9f3a\"],[0.8888888888888888,\"#fdca26\"],[1.0,\"#f0f921\"]],\"type\":\"heatmapgl\"}],\"heatmap\":[{\"colorbar\":{\"outlinewidth\":0,\"ticks\":\"\"},\"colorscale\":[[0.0,\"#0d0887\"],[0.1111111111111111,\"#46039f\"],[0.2222222222222222,\"#7201a8\"],[0.3333333333333333,\"#9c179e\"],[0.4444444444444444,\"#bd3786\"],[0.5555555555555556,\"#d8576b\"],[0.6666666666666666,\"#ed7953\"],[0.7777777777777778,\"#fb9f3a\"],[0.8888888888888888,\"#fdca26\"],[1.0,\"#f0f921\"]],\"type\":\"heatmap\"}],\"histogram2dcontour\":[{\"colorbar\":{\"outlinewidth\":0,\"ticks\":\"\"},\"colorscale\":[[0.0,\"#0d0887\"],[0.1111111111111111,\"#46039f\"],[0.2222222222222222,\"#7201a8\"],[0.3333333333333333,\"#9c179e\"],[0.4444444444444444,\"#bd3786\"],[0.5555555555555556,\"#d8576b\"],[0.6666666666666666,\"#ed7953\"],[0.7777777777777778,\"#fb9f3a\"],[0.8888888888888888,\"#fdca26\"],[1.0,\"#f0f921\"]],\"type\":\"histogram2dcontour\"}],\"histogram2d\":[{\"colorbar\":{\"outlinewidth\":0,\"ticks\":\"\"},\"colorscale\":[[0.0,\"#0d0887\"],[0.1111111111111111,\"#46039f\"],[0.2222222222222222,\"#7201a8\"],[0.3333333333333333,\"#9c179e\"],[0.4444444444444444,\"#bd3786\"],[0.5555555555555556,\"#d8576b\"],[0.6666666666666666,\"#ed7953\"],[0.7777777777777778,\"#fb9f3a\"],[0.8888888888888888,\"#fdca26\"],[1.0,\"#f0f921\"]],\"type\":\"histogram2d\"}],\"histogram\":[{\"marker\":{\"pattern\":{\"fillmode\":\"overlay\",\"size\":10,\"solidity\":0.2}},\"type\":\"histogram\"}],\"mesh3d\":[{\"colorbar\":{\"outlinewidth\":0,\"ticks\":\"\"},\"type\":\"mesh3d\"}],\"parcoords\":[{\"line\":{\"colorbar\":{\"outlinewidth\":0,\"ticks\":\"\"}},\"type\":\"parcoords\"}],\"pie\":[{\"automargin\":true,\"type\":\"pie\"}],\"scatter3d\":[{\"line\":{\"colorbar\":{\"outlinewidth\":0,\"ticks\":\"\"}},\"marker\":{\"colorbar\":{\"outlinewidth\":0,\"ticks\":\"\"}},\"type\":\"scatter3d\"}],\"scattercarpet\":[{\"marker\":{\"colorbar\":{\"outlinewidth\":0,\"ticks\":\"\"}},\"type\":\"scattercarpet\"}],\"scattergeo\":[{\"marker\":{\"colorbar\":{\"outlinewidth\":0,\"ticks\":\"\"}},\"type\":\"scattergeo\"}],\"scattergl\":[{\"marker\":{\"colorbar\":{\"outlinewidth\":0,\"ticks\":\"\"}},\"type\":\"scattergl\"}],\"scattermapbox\":[{\"marker\":{\"colorbar\":{\"outlinewidth\":0,\"ticks\":\"\"}},\"type\":\"scattermapbox\"}],\"scatterpolargl\":[{\"marker\":{\"colorbar\":{\"outlinewidth\":0,\"ticks\":\"\"}},\"type\":\"scatterpolargl\"}],\"scatterpolar\":[{\"marker\":{\"colorbar\":{\"outlinewidth\":0,\"ticks\":\"\"}},\"type\":\"scatterpolar\"}],\"scatter\":[{\"fillpattern\":{\"fillmode\":\"overlay\",\"size\":10,\"solidity\":0.2},\"type\":\"scatter\"}],\"scatterternary\":[{\"marker\":{\"colorbar\":{\"outlinewidth\":0,\"ticks\":\"\"}},\"type\":\"scatterternary\"}],\"surface\":[{\"colorbar\":{\"outlinewidth\":0,\"ticks\":\"\"},\"colorscale\":[[0.0,\"#0d0887\"],[0.1111111111111111,\"#46039f\"],[0.2222222222222222,\"#7201a8\"],[0.3333333333333333,\"#9c179e\"],[0.4444444444444444,\"#bd3786\"],[0.5555555555555556,\"#d8576b\"],[0.6666666666666666,\"#ed7953\"],[0.7777777777777778,\"#fb9f3a\"],[0.8888888888888888,\"#fdca26\"],[1.0,\"#f0f921\"]],\"type\":\"surface\"}],\"table\":[{\"cells\":{\"fill\":{\"color\":\"#EBF0F8\"},\"line\":{\"color\":\"white\"}},\"header\":{\"fill\":{\"color\":\"#C8D4E3\"},\"line\":{\"color\":\"white\"}},\"type\":\"table\"}]},\"layout\":{\"annotationdefaults\":{\"arrowcolor\":\"#2a3f5f\",\"arrowhead\":0,\"arrowwidth\":1},\"autotypenumbers\":\"strict\",\"coloraxis\":{\"colorbar\":{\"outlinewidth\":0,\"ticks\":\"\"}},\"colorscale\":{\"diverging\":[[0,\"#8e0152\"],[0.1,\"#c51b7d\"],[0.2,\"#de77ae\"],[0.3,\"#f1b6da\"],[0.4,\"#fde0ef\"],[0.5,\"#f7f7f7\"],[0.6,\"#e6f5d0\"],[0.7,\"#b8e186\"],[0.8,\"#7fbc41\"],[0.9,\"#4d9221\"],[1,\"#276419\"]],\"sequential\":[[0.0,\"#0d0887\"],[0.1111111111111111,\"#46039f\"],[0.2222222222222222,\"#7201a8\"],[0.3333333333333333,\"#9c179e\"],[0.4444444444444444,\"#bd3786\"],[0.5555555555555556,\"#d8576b\"],[0.6666666666666666,\"#ed7953\"],[0.7777777777777778,\"#fb9f3a\"],[0.8888888888888888,\"#fdca26\"],[1.0,\"#f0f921\"]],\"sequentialminus\":[[0.0,\"#0d0887\"],[0.1111111111111111,\"#46039f\"],[0.2222222222222222,\"#7201a8\"],[0.3333333333333333,\"#9c179e\"],[0.4444444444444444,\"#bd3786\"],[0.5555555555555556,\"#d8576b\"],[0.6666666666666666,\"#ed7953\"],[0.7777777777777778,\"#fb9f3a\"],[0.8888888888888888,\"#fdca26\"],[1.0,\"#f0f921\"]]},\"colorway\":[\"#636efa\",\"#EF553B\",\"#00cc96\",\"#ab63fa\",\"#FFA15A\",\"#19d3f3\",\"#FF6692\",\"#B6E880\",\"#FF97FF\",\"#FECB52\"],\"font\":{\"color\":\"#2a3f5f\"},\"geo\":{\"bgcolor\":\"white\",\"lakecolor\":\"white\",\"landcolor\":\"#E5ECF6\",\"showlakes\":true,\"showland\":true,\"subunitcolor\":\"white\"},\"hoverlabel\":{\"align\":\"left\"},\"hovermode\":\"closest\",\"mapbox\":{\"style\":\"light\"},\"paper_bgcolor\":\"white\",\"plot_bgcolor\":\"#E5ECF6\",\"polar\":{\"angularaxis\":{\"gridcolor\":\"white\",\"linecolor\":\"white\",\"ticks\":\"\"},\"bgcolor\":\"#E5ECF6\",\"radialaxis\":{\"gridcolor\":\"white\",\"linecolor\":\"white\",\"ticks\":\"\"}},\"scene\":{\"xaxis\":{\"backgroundcolor\":\"#E5ECF6\",\"gridcolor\":\"white\",\"gridwidth\":2,\"linecolor\":\"white\",\"showbackground\":true,\"ticks\":\"\",\"zerolinecolor\":\"white\"},\"yaxis\":{\"backgroundcolor\":\"#E5ECF6\",\"gridcolor\":\"white\",\"gridwidth\":2,\"linecolor\":\"white\",\"showbackground\":true,\"ticks\":\"\",\"zerolinecolor\":\"white\"},\"zaxis\":{\"backgroundcolor\":\"#E5ECF6\",\"gridcolor\":\"white\",\"gridwidth\":2,\"linecolor\":\"white\",\"showbackground\":true,\"ticks\":\"\",\"zerolinecolor\":\"white\"}},\"shapedefaults\":{\"line\":{\"color\":\"#2a3f5f\"}},\"ternary\":{\"aaxis\":{\"gridcolor\":\"white\",\"linecolor\":\"white\",\"ticks\":\"\"},\"baxis\":{\"gridcolor\":\"white\",\"linecolor\":\"white\",\"ticks\":\"\"},\"bgcolor\":\"#E5ECF6\",\"caxis\":{\"gridcolor\":\"white\",\"linecolor\":\"white\",\"ticks\":\"\"}},\"title\":{\"x\":0.05},\"xaxis\":{\"automargin\":true,\"gridcolor\":\"white\",\"linecolor\":\"white\",\"ticks\":\"\",\"title\":{\"standoff\":15},\"zerolinecolor\":\"white\",\"zerolinewidth\":2},\"yaxis\":{\"automargin\":true,\"gridcolor\":\"white\",\"linecolor\":\"white\",\"ticks\":\"\",\"title\":{\"standoff\":15},\"zerolinecolor\":\"white\",\"zerolinewidth\":2}}},\"title\":{\"text\":\"\\u041a\\u043e\\u043b\\u0438\\u0447\\u0435\\u0441\\u0442\\u0432\\u043e \\u043a\\u0430\\u0442\\u0435\\u0433\\u043e\\u0440\\u0438\\u0439\"},\"xaxis\":{\"anchor\":\"y\",\"domain\":[0.0,1.0],\"title\":{\"text\":\"Product Category\"}},\"yaxis\":{\"anchor\":\"x\",\"domain\":[0.0,1.0],\"title\":{\"text\":\"Count\"}}},                        {\"responsive\": true}                    ).then(function(){\n",
       "                            \n",
       "var gd = document.getElementById('59915f74-ce53-467a-99b2-8d5ac302348a');\n",
       "var x = new MutationObserver(function (mutations, observer) {{\n",
       "        var display = window.getComputedStyle(gd).display;\n",
       "        if (!display || display === 'none') {{\n",
       "            console.log([gd, 'removed!']);\n",
       "            Plotly.purge(gd);\n",
       "            observer.disconnect();\n",
       "        }}\n",
       "}});\n",
       "\n",
       "// Listen for the removal of the full notebook cells\n",
       "var notebookContainer = gd.closest('#notebook-container');\n",
       "if (notebookContainer) {{\n",
       "    x.observe(notebookContainer, {childList: true});\n",
       "}}\n",
       "\n",
       "// Listen for the clearing of the current output cell\n",
       "var outputEl = gd.closest('.output');\n",
       "if (outputEl) {{\n",
       "    x.observe(outputEl, {childList: true});\n",
       "}}\n",
       "\n",
       "                        })                };                });            </script>        </div>"
      ]
     },
     "metadata": {},
     "output_type": "display_data"
    }
   ],
   "source": [
    "category_count = df['product_category'].value_counts()\n",
    "iplot(px.bar(x=category_count.index, y=category_count.values,\n",
    "             labels={'x': 'Product Category', 'y': 'Count'},\n",
    "             title='Количество категорий'))"
   ]
  },
  {
   "cell_type": "markdown",
   "id": "2586c334",
   "metadata": {},
   "source": [
    "Видимо, что кофе является самым продаваемым продуктом. Кроме того, чай демонстрирует высокий уровень продаж."
   ]
  },
  {
   "cell_type": "markdown",
   "id": "87fc5d7e",
   "metadata": {},
   "source": [
    "# Шаг 5. Создание новых признаков"
   ]
  },
  {
   "cell_type": "markdown",
   "id": "a1ddbbc6",
   "metadata": {},
   "source": [
    "# 1. Выручка от продажи"
   ]
  },
  {
   "cell_type": "markdown",
   "id": "641e764f",
   "metadata": {},
   "source": [
    "В нашей таблице отсутствует одна важная характеристика — выручка от продажи продукции. Считаем и добавляем новый столбец."
   ]
  },
  {
   "cell_type": "code",
   "execution_count": 210,
   "id": "6442af24",
   "metadata": {},
   "outputs": [],
   "source": [
    "df['income']=df['transaction_quantity']*df['unit_price']"
   ]
  },
  {
   "cell_type": "code",
   "execution_count": 211,
   "id": "cc05cad3",
   "metadata": {},
   "outputs": [
    {
     "data": {
      "text/plain": [
       "month\n",
       "1     81677.74\n",
       "2     76145.19\n",
       "3     98834.68\n",
       "4    118941.08\n",
       "5    156727.76\n",
       "6    166485.88\n",
       "Name: income, dtype: float64"
      ]
     },
     "execution_count": 211,
     "metadata": {},
     "output_type": "execute_result"
    }
   ],
   "source": [
    "df.groupby('month')['income'].sum()"
   ]
  },
  {
   "cell_type": "code",
   "execution_count": 212,
   "id": "c2f9077d",
   "metadata": {},
   "outputs": [
    {
     "data": {
      "image/png": "[encoded data removed]",
      "text/plain": [
       "<Figure size 640x480 with 1 Axes>"
      ]
     },
     "metadata": {},
     "output_type": "display_data"
    }
   ],
   "source": [
    "monthly_income  = df.groupby(\"month\")[\"income\"].sum().reset_index().sort_values(by = \"income\")\n",
    "sns.lineplot(x = \"month\", y = \"income\", data = monthly_income , marker = \"o\")\n",
    "plt.xlabel('Месяцы')\n",
    "plt.ylabel('Доход')\n",
    "plt.title('График дохода от продаж')\n",
    "plt.tight_layout()\n",
    "plt.show()"
   ]
  },
  {
   "cell_type": "markdown",
   "id": "15e7a729",
   "metadata": {},
   "source": [
    "Поскольку я хочу спрогнозировать выручку на следующий месяц, нам нужно было посмотреть, что произошло с выручкой в течение полгода."
   ]
  },
  {
   "cell_type": "code",
   "execution_count": 213,
   "id": "504882db",
   "metadata": {},
   "outputs": [
    {
     "data": {
      "text/plain": [
       "Text(0.5, 1.0, 'График дохода от продаж')"
      ]
     },
     "execution_count": 213,
     "metadata": {},
     "output_type": "execute_result"
    },
    {
     "data": {
      "image/png": "[encoded data removed]",
      "text/plain": [
       "<Figure size 1200x500 with 1 Axes>"
      ]
     },
     "metadata": {},
     "output_type": "display_data"
    }
   ],
   "source": [
    "graf_2=df.groupby('month')['income'].mean()\n",
    "graf_2.plot(figsize=(12, 5))\n",
    "plt.ticklabel_format(style='plain')\n",
    "plt.xlabel('Месяцы')\n",
    "plt.ylabel('Доход')\n",
    "plt.title('График дохода от продаж')"
   ]
  },
  {
   "cell_type": "markdown",
   "id": "73f1b8ee",
   "metadata": {},
   "source": [
    "# 2. День"
   ]
  },
  {
   "cell_type": "markdown",
   "id": "a5bdcc8b",
   "metadata": {},
   "source": [
    "Добавив столбец «День», вы сможете увидеть, в какой день недели наблюдаются самые высокие продажи."
   ]
  },
  {
   "cell_type": "code",
   "execution_count": 214,
   "id": "3b7357cb",
   "metadata": {},
   "outputs": [],
   "source": [
    "df[\"day\"] = df[\"transaction_date\"].dt.day_name()"
   ]
  },
  {
   "cell_type": "code",
   "execution_count": 215,
   "id": "ad10532a",
   "metadata": {},
   "outputs": [
    {
     "data": {
      "image/png": "[encoded data removed]",
      "text/plain": [
       "<Figure size 640x480 with 1 Axes>"
      ]
     },
     "metadata": {},
     "output_type": "display_data"
    }
   ],
   "source": [
    "sns.countplot(data=df,x ='day',palette='flare')\n",
    "plt.show()"
   ]
  },
  {
   "cell_type": "markdown",
   "id": "65ddd226",
   "metadata": {},
   "source": [
    "В понедельник, четверг и пятницу продажи немного выше."
   ]
  },
  {
   "cell_type": "markdown",
   "id": "01c6fba6",
   "metadata": {},
   "source": [
    "# Шаг 6. Гипотезы"
   ]
  },
  {
   "cell_type": "markdown",
   "id": "d90fe183",
   "metadata": {},
   "source": [
    "Проверяем гипотезу о том, что средняя доходность в каждом месяце больше 4.66"
   ]
  },
  {
   "cell_type": "markdown",
   "id": "7eff14be",
   "metadata": {},
   "source": [
    "Уровень значимости: $5\\%$\n",
    "\n",
    "$$\n",
    "\\begin{aligned}\n",
    "&H_0: \\hspace{2mm} \\mu \\le 4.66 \\hspace{2mm} \\ \\\\\n",
    "&H_1: \\hspace{2mm} \\mu > 4.66  \\hspace{2mm} \\\n",
    "\\end{aligned}\n",
    "$$"
   ]
  },
  {
   "cell_type": "code",
   "execution_count": 216,
   "id": "e10ac763",
   "metadata": {},
   "outputs": [
    {
     "name": "stdout",
     "output_type": "stream",
     "text": [
      "Ho не отвергается \n",
      "Ho не отвергается \n",
      "Ho не отвергается \n",
      "Ho не отвергается \n",
      "Ho не отвергается \n",
      "Ho отвергается \n"
     ]
    },
    {
     "ename": "StatisticsError",
     "evalue": "variance requires at least two data points",
     "output_type": "error",
     "traceback": [
      "\u001b[1;31m---------------------------------------------------------------------------\u001b[0m",
      "\u001b[1;31mStatisticsError\u001b[0m                           Traceback (most recent call last)",
      "Cell \u001b[1;32mIn[216], line 6\u001b[0m\n\u001b[0;32m      4\u001b[0m \u001b[38;5;28;01mfor\u001b[39;00m i \u001b[38;5;129;01min\u001b[39;00m \u001b[38;5;28mrange\u001b[39m(\u001b[38;5;241m1\u001b[39m,\u001b[38;5;241m13\u001b[39m):\n\u001b[0;32m      5\u001b[0m     m\u001b[38;5;241m=\u001b[39mdf\u001b[38;5;241m.\u001b[39mloc[df[\u001b[38;5;124m'\u001b[39m\u001b[38;5;124mmonth\u001b[39m\u001b[38;5;124m'\u001b[39m]\u001b[38;5;241m==\u001b[39mi][\u001b[38;5;124m'\u001b[39m\u001b[38;5;124mincome\u001b[39m\u001b[38;5;124m'\u001b[39m]\n\u001b[1;32m----> 6\u001b[0m     z_p\u001b[38;5;241m=\u001b[39m((m\u001b[38;5;241m.\u001b[39mmean()\u001b[38;5;241m-\u001b[39m\u001b[38;5;241m4.66\u001b[39m)\u001b[38;5;241m*\u001b[39mnp\u001b[38;5;241m.\u001b[39msqrt(\u001b[38;5;28mlen\u001b[39m(m)))\u001b[38;5;241m/\u001b[39mnp\u001b[38;5;241m.\u001b[39msqrt(\u001b[43mstatistics\u001b[49m\u001b[38;5;241;43m.\u001b[39;49m\u001b[43mvariance\u001b[49m\u001b[43m(\u001b[49m\u001b[43mm\u001b[49m\u001b[43m)\u001b[49m)\n\u001b[0;32m      7\u001b[0m     \u001b[38;5;28;01mif\u001b[39;00m z_p\u001b[38;5;241m<\u001b[39m z_crit95:\n\u001b[0;32m      8\u001b[0m         \u001b[38;5;28mprint\u001b[39m(\u001b[38;5;124m\"\u001b[39m\u001b[38;5;124mHo не отвергается \u001b[39m\u001b[38;5;124m\"\u001b[39m)\n",
      "File \u001b[1;32m~\\OneDrive\\Documents\\Custom Office Templates\\lib\\statistics.py:767\u001b[0m, in \u001b[0;36mvariance\u001b[1;34m(data, xbar)\u001b[0m\n\u001b[0;32m    765\u001b[0m n \u001b[38;5;241m=\u001b[39m \u001b[38;5;28mlen\u001b[39m(data)\n\u001b[0;32m    766\u001b[0m \u001b[38;5;28;01mif\u001b[39;00m n \u001b[38;5;241m<\u001b[39m \u001b[38;5;241m2\u001b[39m:\n\u001b[1;32m--> 767\u001b[0m     \u001b[38;5;28;01mraise\u001b[39;00m StatisticsError(\u001b[38;5;124m'\u001b[39m\u001b[38;5;124mvariance requires at least two data points\u001b[39m\u001b[38;5;124m'\u001b[39m)\n\u001b[0;32m    768\u001b[0m T, ss \u001b[38;5;241m=\u001b[39m _ss(data, xbar)\n\u001b[0;32m    769\u001b[0m \u001b[38;5;28;01mreturn\u001b[39;00m _convert(ss \u001b[38;5;241m/\u001b[39m (n \u001b[38;5;241m-\u001b[39m \u001b[38;5;241m1\u001b[39m), T)\n",
      "\u001b[1;31mStatisticsError\u001b[0m: variance requires at least two data points"
     ]
    }
   ],
   "source": [
    "#Правосторонняя альтернативная гипотеза, матожидание и дисперсия неизвестно, выборки большие используем Z статистику\n",
    "alpha95 = 0.05                            \n",
    "z_crit95 = stats.norm.ppf(1 - alpha95)\n",
    "for i in range(1,13):\n",
    "    m=df.loc[df['month']==i]['income']\n",
    "    z_p=((m.mean()-4.66)*np.sqrt(len(m)))/np.sqrt(statistics.variance(m))\n",
    "    if z_p< z_crit95:\n",
    "        print(\"Ho не отвергается \")\n",
    "    else:\n",
    "        print(\"Ho отвергается \")"
   ]
  },
  {
   "cell_type": "markdown",
   "id": "dd48f21a",
   "metadata": {},
   "source": [
    "Проверяем гипотезу о том, что средняя доходность в каждом месяце равно 4.70 ."
   ]
  },
  {
   "cell_type": "code",
   "execution_count": 217,
   "id": "1adda141",
   "metadata": {},
   "outputs": [
    {
     "name": "stdout",
     "output_type": "stream",
     "text": [
      "Ho не отвергается \n",
      "Ho не отвергается \n",
      "Ho отвергается \n",
      "Ho не отвергается \n",
      "Ho не отвергается \n",
      "Ho не отвергается \n"
     ]
    },
    {
     "ename": "StatisticsError",
     "evalue": "variance requires at least two data points",
     "output_type": "error",
     "traceback": [
      "\u001b[1;31m---------------------------------------------------------------------------\u001b[0m",
      "\u001b[1;31mStatisticsError\u001b[0m                           Traceback (most recent call last)",
      "Cell \u001b[1;32mIn[217], line 6\u001b[0m\n\u001b[0;32m      4\u001b[0m \u001b[38;5;28;01mfor\u001b[39;00m i \u001b[38;5;129;01min\u001b[39;00m \u001b[38;5;28mrange\u001b[39m(\u001b[38;5;241m1\u001b[39m,\u001b[38;5;241m13\u001b[39m):\n\u001b[0;32m      5\u001b[0m     m \u001b[38;5;241m=\u001b[39m df\u001b[38;5;241m.\u001b[39mloc[df[\u001b[38;5;124m'\u001b[39m\u001b[38;5;124mmonth\u001b[39m\u001b[38;5;124m'\u001b[39m]\u001b[38;5;241m==\u001b[39mi][\u001b[38;5;124m'\u001b[39m\u001b[38;5;124mincome\u001b[39m\u001b[38;5;124m'\u001b[39m]\n\u001b[1;32m----> 6\u001b[0m     z_p \u001b[38;5;241m=\u001b[39m ((m\u001b[38;5;241m.\u001b[39mmean()\u001b[38;5;241m-\u001b[39m\u001b[38;5;241m4.70\u001b[39m)\u001b[38;5;241m*\u001b[39mnp\u001b[38;5;241m.\u001b[39msqrt(\u001b[38;5;28mlen\u001b[39m(m)))\u001b[38;5;241m/\u001b[39mnp\u001b[38;5;241m.\u001b[39msqrt(\u001b[43mstatistics\u001b[49m\u001b[38;5;241;43m.\u001b[39;49m\u001b[43mvariance\u001b[49m\u001b[43m(\u001b[49m\u001b[43mm\u001b[49m\u001b[43m)\u001b[49m)\n\u001b[0;32m      7\u001b[0m     \u001b[38;5;28;01mif\u001b[39;00m z_p \u001b[38;5;241m>\u001b[39m \u001b[38;5;241m-\u001b[39mz_crit95 \u001b[38;5;129;01mand\u001b[39;00m z_p\u001b[38;5;241m<\u001b[39m z_crit95:\n\u001b[0;32m      8\u001b[0m         \u001b[38;5;28mprint\u001b[39m(\u001b[38;5;124m\"\u001b[39m\u001b[38;5;124mHo не отвергается \u001b[39m\u001b[38;5;124m\"\u001b[39m)\n",
      "File \u001b[1;32m~\\OneDrive\\Documents\\Custom Office Templates\\lib\\statistics.py:767\u001b[0m, in \u001b[0;36mvariance\u001b[1;34m(data, xbar)\u001b[0m\n\u001b[0;32m    765\u001b[0m n \u001b[38;5;241m=\u001b[39m \u001b[38;5;28mlen\u001b[39m(data)\n\u001b[0;32m    766\u001b[0m \u001b[38;5;28;01mif\u001b[39;00m n \u001b[38;5;241m<\u001b[39m \u001b[38;5;241m2\u001b[39m:\n\u001b[1;32m--> 767\u001b[0m     \u001b[38;5;28;01mraise\u001b[39;00m StatisticsError(\u001b[38;5;124m'\u001b[39m\u001b[38;5;124mvariance requires at least two data points\u001b[39m\u001b[38;5;124m'\u001b[39m)\n\u001b[0;32m    768\u001b[0m T, ss \u001b[38;5;241m=\u001b[39m _ss(data, xbar)\n\u001b[0;32m    769\u001b[0m \u001b[38;5;28;01mreturn\u001b[39;00m _convert(ss \u001b[38;5;241m/\u001b[39m (n \u001b[38;5;241m-\u001b[39m \u001b[38;5;241m1\u001b[39m), T)\n",
      "\u001b[1;31mStatisticsError\u001b[0m: variance requires at least two data points"
     ]
    }
   ],
   "source": [
    "#Двухсторонняя альтернативная гипотеза, матожидание и дисперсия неизвестно, выборки большие, используем Z статистику\n",
    "alpha95 = 0.05                                \n",
    "z_crit95 = stats.norm.ppf(1 - alpha95/2)\n",
    "for i in range(1,13):\n",
    "    m = df.loc[df['month']==i]['income']\n",
    "    z_p = ((m.mean()-4.70)*np.sqrt(len(m)))/np.sqrt(statistics.variance(m))\n",
    "    if z_p > -z_crit95 and z_p< z_crit95:\n",
    "        print(\"Ho не отвергается \")\n",
    "    else:\n",
    "        print(\"Ho отвергается \")"
   ]
  },
  {
   "cell_type": "markdown",
   "id": "9da669e9",
   "metadata": {},
   "source": [
    "Для оценки предположения о превосходстве продаж одного типа продуктов над другими, возможно применение t-теста для сопоставления средних объемов продаж различных товаров. Допустим, сравнить объемы продаж между такими видами продуктов, как \"Barista Espresso\" и \"Chai tea\"."
   ]
  },
  {
   "cell_type": "code",
   "execution_count": 218,
   "id": "64eee3de",
   "metadata": {},
   "outputs": [
    {
     "name": "stdout",
     "output_type": "stream",
     "text": [
      "t-статистика: 19.682469862553887\n",
      "p-значение: 2.765149700799284e-85\n",
      "Результат статистически значим: продажи различаются между типами продуктов\n"
     ]
    }
   ],
   "source": [
    "coffee = df[df['product_type'] == 'Barista Espresso']['transaction_quantity']\n",
    "tea = df[df['product_type'] == 'Chai tea']['transaction_quantity']\n",
    "# Проверяем гипотизу\n",
    "t_stat, p_value = ttest_ind(coffee, tea)\n",
    "\n",
    "# Результаты теста\n",
    "print(\"t-статистика:\", t_stat)\n",
    "print(\"p-значение:\", p_value)\n",
    "if p_value < 0.05:\n",
    "    print(\"Результат статистически значим: продажи различаются между типами продуктов\")\n",
    "else:\n",
    "    print(\"Результат статистически незначим: продажи не различаются между типами продуктов\")"
   ]
  },
  {
   "cell_type": "code",
   "execution_count": 219,
   "id": "855ac5ac",
   "metadata": {},
   "outputs": [
    {
     "name": "stdout",
     "output_type": "stream",
     "text": [
      "t-статистика: 87.66822766432162\n",
      "p-значение: 0.0\n",
      "Результат статистически значим: продажи различаются между типами продуктов\n"
     ]
    }
   ],
   "source": [
    "drinking_chocolate = df[df['product_type'] == 'Hot chocolate']['transaction_quantity']\n",
    "bakery = df[df['product_type'] == 'Scone']['transaction_quantity']\n",
    "# Проверяем гипотезу \n",
    "t_stat, p_value = ttest_ind(drinking_chocolate, bakery )\n",
    "\n",
    "# Результаты теста\n",
    "print(\"t-статистика:\", t_stat)\n",
    "print(\"p-значение:\", p_value)\n",
    "if p_value < 0.05:\n",
    "    print(\"Результат статистически значим: продажи различаются между типами продуктов\")\n",
    "else:\n",
    "    print(\"Результат статистически незначим: продажи не различаются между типами продуктов\")"
   ]
  },
  {
   "cell_type": "code",
   "execution_count": 220,
   "id": "ecd73fd5",
   "metadata": {},
   "outputs": [
    {
     "name": "stdout",
     "output_type": "stream",
     "text": [
      "t-статистика: -0.7825117210532692\n",
      "p-значение: 0.4339225662845737\n",
      "Результат статистически незначим: продажи не различаются между типами продуктов\n"
     ]
    }
   ],
   "source": [
    "# Выбираем продажи Barista Espresso и Green tea\n",
    "coffee = df[df['product_type'] == 'Barista Espresso']['transaction_quantity']\n",
    "syrup = df[df['product_type'] == 'Regular syrup']['transaction_quantity']\n",
    "# Проверяем гипотизу\n",
    "t_stat, p_value = ttest_ind(coffee, syrup )\n",
    "\n",
    "# Результаты теста\n",
    "print(\"t-статистика:\", t_stat)\n",
    "print(\"p-значение:\", p_value)\n",
    "if p_value < 0.05:\n",
    "    print(\"Результат статистически значим: продажи различаются между типами продуктов\")\n",
    "else:\n",
    "    print(\"Результат статистически незначим: продажи не различаются между типами продуктов\")"
   ]
  },
  {
   "cell_type": "markdown",
   "id": "7b635a13",
   "metadata": {},
   "source": [
    "Проверим гипотезу о том, что продажи в разных сетях не отличаются друг от друга."
   ]
  },
  {
   "cell_type": "code",
   "execution_count": 221,
   "id": "451eb6a2",
   "metadata": {},
   "outputs": [
    {
     "name": "stdout",
     "output_type": "stream",
     "text": [
      "Отвергаем нулевую гипотезу: продажи в городах отличаются друг от друга\n"
     ]
    }
   ],
   "source": [
    "store1 = df[df['store_location'] == 'Astoria']['income']\n",
    "store2 = df[df['store_location'] == \"Hell's Kitchen\"]['income']\n",
    "# тестирование гипотезы\n",
    "t_statistic, p_value = ttest_ind(store1, store2)\n",
    "\n",
    "# Результат\n",
    "if p_value < 0.05:\n",
    "    print(\"Отвергаем нулевую гипотезу: продажи в городах отличаются друг от друга\")\n",
    "else:\n",
    "    print(\"Не отвергаем нулевую гипотезу: продажи в городах не отличаются друг от друга\")"
   ]
  },
  {
   "cell_type": "code",
   "execution_count": 222,
   "id": "a7786d35",
   "metadata": {},
   "outputs": [
    {
     "name": "stdout",
     "output_type": "stream",
     "text": [
      "Отвергаем нулевую гипотезу: продажи в городах отличаются друг от друга\n"
     ]
    }
   ],
   "source": [
    "store2 = df[df['store_location'] == \"Hell's Kitchen\"]['income']\n",
    "store3 = df[df['store_location'] == 'Lower Manhattan']['income']\n",
    "# тестирование гипотезы\n",
    "t_statistic, p_value = ttest_ind(store2, store3)\n",
    "\n",
    "# вывод результатов\n",
    "if p_value < 0.05:\n",
    "    print(\"Отвергаем нулевую гипотезу: продажи в городах отличаются друг от друга\")\n",
    "else:\n",
    "    print(\"Не отвергаем нулевую гипотезу: продажи в городах не отличаются друг от друга\")"
   ]
  },
  {
   "cell_type": "markdown",
   "id": "22ef1e37",
   "metadata": {},
   "source": [
    "# Шаг 7. Машинное обучение"
   ]
  },
  {
   "cell_type": "code",
   "execution_count": 223,
   "id": "609de741",
   "metadata": {},
   "outputs": [
    {
     "data": {
      "text/html": [
       "<div>\n",
       "<style scoped>\n",
       "    .dataframe tbody tr th:only-of-type {\n",
       "        vertical-align: middle;\n",
       "    }\n",
       "\n",
       "    .dataframe tbody tr th {\n",
       "        vertical-align: top;\n",
       "    }\n",
       "\n",
       "    .dataframe thead tr th {\n",
       "        text-align: left;\n",
       "    }\n",
       "\n",
       "    .dataframe thead tr:last-of-type th {\n",
       "        text-align: right;\n",
       "    }\n",
       "</style>\n",
       "<table border=\"1\" class=\"dataframe\">\n",
       "  <thead>\n",
       "    <tr>\n",
       "      <th></th>\n",
       "      <th colspan=\"6\" halign=\"left\">income</th>\n",
       "    </tr>\n",
       "    <tr>\n",
       "      <th>month</th>\n",
       "      <th>1</th>\n",
       "      <th>2</th>\n",
       "      <th>3</th>\n",
       "      <th>4</th>\n",
       "      <th>5</th>\n",
       "      <th>6</th>\n",
       "    </tr>\n",
       "    <tr>\n",
       "      <th>product_type</th>\n",
       "      <th></th>\n",
       "      <th></th>\n",
       "      <th></th>\n",
       "      <th></th>\n",
       "      <th></th>\n",
       "      <th></th>\n",
       "    </tr>\n",
       "  </thead>\n",
       "  <tbody>\n",
       "    <tr>\n",
       "      <th>Barista Espresso</th>\n",
       "      <td>10461.20</td>\n",
       "      <td>10027.15</td>\n",
       "      <td>13078.20</td>\n",
       "      <td>15555.90</td>\n",
       "      <td>20423.75</td>\n",
       "      <td>21860.00</td>\n",
       "    </tr>\n",
       "    <tr>\n",
       "      <th>Biscotti</th>\n",
       "      <td>2311.02</td>\n",
       "      <td>2240.88</td>\n",
       "      <td>2928.20</td>\n",
       "      <td>3232.07</td>\n",
       "      <td>4418.02</td>\n",
       "      <td>4663.34</td>\n",
       "    </tr>\n",
       "    <tr>\n",
       "      <th>Black tea</th>\n",
       "      <td>375.90</td>\n",
       "      <td>340.10</td>\n",
       "      <td>411.70</td>\n",
       "      <td>420.65</td>\n",
       "      <td>537.00</td>\n",
       "      <td>626.50</td>\n",
       "    </tr>\n",
       "    <tr>\n",
       "      <th>Brewed Black tea</th>\n",
       "      <td>5535.50</td>\n",
       "      <td>5369.50</td>\n",
       "      <td>6875.00</td>\n",
       "      <td>8023.50</td>\n",
       "      <td>10778.00</td>\n",
       "      <td>11350.50</td>\n",
       "    </tr>\n",
       "    <tr>\n",
       "      <th>Brewed Chai tea</th>\n",
       "      <td>8761.45</td>\n",
       "      <td>8383.40</td>\n",
       "      <td>11029.65</td>\n",
       "      <td>13291.95</td>\n",
       "      <td>17427.35</td>\n",
       "      <td>18188.15</td>\n",
       "    </tr>\n",
       "    <tr>\n",
       "      <th>Brewed Green tea</th>\n",
       "      <td>2883.50</td>\n",
       "      <td>2754.50</td>\n",
       "      <td>3325.00</td>\n",
       "      <td>3991.50</td>\n",
       "      <td>5404.50</td>\n",
       "      <td>5493.50</td>\n",
       "    </tr>\n",
       "    <tr>\n",
       "      <th>Brewed herbal tea</th>\n",
       "      <td>5441.50</td>\n",
       "      <td>5226.00</td>\n",
       "      <td>6681.00</td>\n",
       "      <td>8050.00</td>\n",
       "      <td>10930.00</td>\n",
       "      <td>11211.00</td>\n",
       "    </tr>\n",
       "    <tr>\n",
       "      <th>Chai tea</th>\n",
       "      <td>383.90</td>\n",
       "      <td>467.25</td>\n",
       "      <td>564.85</td>\n",
       "      <td>738.70</td>\n",
       "      <td>961.90</td>\n",
       "      <td>1184.65</td>\n",
       "    </tr>\n",
       "    <tr>\n",
       "      <th>Clothing</th>\n",
       "      <td>1008.00</td>\n",
       "      <td>476.00</td>\n",
       "      <td>807.00</td>\n",
       "      <td>896.00</td>\n",
       "      <td>1418.00</td>\n",
       "      <td>1558.00</td>\n",
       "    </tr>\n",
       "    <tr>\n",
       "      <th>Drinking Chocolate</th>\n",
       "      <td>316.74</td>\n",
       "      <td>276.22</td>\n",
       "      <td>375.40</td>\n",
       "      <td>554.03</td>\n",
       "      <td>593.49</td>\n",
       "      <td>612.16</td>\n",
       "    </tr>\n",
       "    <tr>\n",
       "      <th>Drip coffee</th>\n",
       "      <td>3583.50</td>\n",
       "      <td>3363.50</td>\n",
       "      <td>4560.50</td>\n",
       "      <td>5415.50</td>\n",
       "      <td>7290.50</td>\n",
       "      <td>7770.50</td>\n",
       "    </tr>\n",
       "    <tr>\n",
       "      <th>Espresso Beans</th>\n",
       "      <td>806.25</td>\n",
       "      <td>674.50</td>\n",
       "      <td>857.20</td>\n",
       "      <td>783.45</td>\n",
       "      <td>1209.20</td>\n",
       "      <td>1229.65</td>\n",
       "    </tr>\n",
       "    <tr>\n",
       "      <th>Gourmet Beans</th>\n",
       "      <td>666.00</td>\n",
       "      <td>837.00</td>\n",
       "      <td>1023.00</td>\n",
       "      <td>1119.00</td>\n",
       "      <td>1653.00</td>\n",
       "      <td>1500.00</td>\n",
       "    </tr>\n",
       "    <tr>\n",
       "      <th>Gourmet brewed coffee</th>\n",
       "      <td>8072.10</td>\n",
       "      <td>7651.70</td>\n",
       "      <td>9789.10</td>\n",
       "      <td>11820.50</td>\n",
       "      <td>15559.20</td>\n",
       "      <td>17142.00</td>\n",
       "    </tr>\n",
       "    <tr>\n",
       "      <th>Green beans</th>\n",
       "      <td>230.00</td>\n",
       "      <td>170.00</td>\n",
       "      <td>190.00</td>\n",
       "      <td>210.00</td>\n",
       "      <td>290.00</td>\n",
       "      <td>250.00</td>\n",
       "    </tr>\n",
       "    <tr>\n",
       "      <th>Green tea</th>\n",
       "      <td>185.00</td>\n",
       "      <td>157.25</td>\n",
       "      <td>249.75</td>\n",
       "      <td>231.25</td>\n",
       "      <td>314.50</td>\n",
       "      <td>333.00</td>\n",
       "    </tr>\n",
       "    <tr>\n",
       "      <th>Herbal tea</th>\n",
       "      <td>349.05</td>\n",
       "      <td>313.25</td>\n",
       "      <td>420.65</td>\n",
       "      <td>438.55</td>\n",
       "      <td>581.75</td>\n",
       "      <td>626.50</td>\n",
       "    </tr>\n",
       "    <tr>\n",
       "      <th>Hot chocolate</th>\n",
       "      <td>8337.75</td>\n",
       "      <td>8132.25</td>\n",
       "      <td>10253.50</td>\n",
       "      <td>12266.75</td>\n",
       "      <td>16319.75</td>\n",
       "      <td>17106.00</td>\n",
       "    </tr>\n",
       "    <tr>\n",
       "      <th>House blend Beans</th>\n",
       "      <td>486.00</td>\n",
       "      <td>288.00</td>\n",
       "      <td>378.00</td>\n",
       "      <td>594.00</td>\n",
       "      <td>738.00</td>\n",
       "      <td>810.00</td>\n",
       "    </tr>\n",
       "    <tr>\n",
       "      <th>Housewares</th>\n",
       "      <td>882.00</td>\n",
       "      <td>759.00</td>\n",
       "      <td>994.00</td>\n",
       "      <td>1483.00</td>\n",
       "      <td>1471.00</td>\n",
       "      <td>1855.00</td>\n",
       "    </tr>\n",
       "    <tr>\n",
       "      <th>Organic Beans</th>\n",
       "      <td>1076.00</td>\n",
       "      <td>847.00</td>\n",
       "      <td>1277.00</td>\n",
       "      <td>1486.50</td>\n",
       "      <td>1757.50</td>\n",
       "      <td>2065.50</td>\n",
       "    </tr>\n",
       "    <tr>\n",
       "      <th>Organic Chocolate</th>\n",
       "      <td>205.20</td>\n",
       "      <td>174.80</td>\n",
       "      <td>212.80</td>\n",
       "      <td>319.20</td>\n",
       "      <td>387.60</td>\n",
       "      <td>380.00</td>\n",
       "    </tr>\n",
       "    <tr>\n",
       "      <th>Organic brewed coffee</th>\n",
       "      <td>4609.10</td>\n",
       "      <td>4077.50</td>\n",
       "      <td>5323.70</td>\n",
       "      <td>6611.00</td>\n",
       "      <td>8350.20</td>\n",
       "      <td>8775.00</td>\n",
       "    </tr>\n",
       "    <tr>\n",
       "      <th>Pastry</th>\n",
       "      <td>2875.58</td>\n",
       "      <td>2815.16</td>\n",
       "      <td>3724.59</td>\n",
       "      <td>4362.40</td>\n",
       "      <td>5842.22</td>\n",
       "      <td>6036.04</td>\n",
       "    </tr>\n",
       "    <tr>\n",
       "      <th>Premium Beans</th>\n",
       "      <td>1981.00</td>\n",
       "      <td>1261.00</td>\n",
       "      <td>1531.00</td>\n",
       "      <td>2631.75</td>\n",
       "      <td>3121.25</td>\n",
       "      <td>4057.50</td>\n",
       "    </tr>\n",
       "    <tr>\n",
       "      <th>Premium brewed coffee</th>\n",
       "      <td>4530.95</td>\n",
       "      <td>4149.10</td>\n",
       "      <td>5552.10</td>\n",
       "      <td>6568.30</td>\n",
       "      <td>8739.20</td>\n",
       "      <td>9241.50</td>\n",
       "    </tr>\n",
       "    <tr>\n",
       "      <th>Regular syrup</th>\n",
       "      <td>721.60</td>\n",
       "      <td>669.60</td>\n",
       "      <td>861.60</td>\n",
       "      <td>1033.60</td>\n",
       "      <td>1368.00</td>\n",
       "      <td>1430.40</td>\n",
       "    </tr>\n",
       "    <tr>\n",
       "      <th>Scone</th>\n",
       "      <td>4349.15</td>\n",
       "      <td>3982.78</td>\n",
       "      <td>5249.79</td>\n",
       "      <td>6427.23</td>\n",
       "      <td>8305.28</td>\n",
       "      <td>8551.89</td>\n",
       "    </tr>\n",
       "    <tr>\n",
       "      <th>Sugar free syrup</th>\n",
       "      <td>252.80</td>\n",
       "      <td>260.80</td>\n",
       "      <td>310.40</td>\n",
       "      <td>384.80</td>\n",
       "      <td>537.60</td>\n",
       "      <td>577.60</td>\n",
       "    </tr>\n",
       "  </tbody>\n",
       "</table>\n",
       "</div>"
      ],
      "text/plain": [
       "                         income                                          \\\n",
       "month                         1         2         3         4         5   \n",
       "product_type                                                              \n",
       "Barista Espresso       10461.20  10027.15  13078.20  15555.90  20423.75   \n",
       "Biscotti                2311.02   2240.88   2928.20   3232.07   4418.02   \n",
       "Black tea                375.90    340.10    411.70    420.65    537.00   \n",
       "Brewed Black tea        5535.50   5369.50   6875.00   8023.50  10778.00   \n",
       "Brewed Chai tea         8761.45   8383.40  11029.65  13291.95  17427.35   \n",
       "Brewed Green tea        2883.50   2754.50   3325.00   3991.50   5404.50   \n",
       "Brewed herbal tea       5441.50   5226.00   6681.00   8050.00  10930.00   \n",
       "Chai tea                 383.90    467.25    564.85    738.70    961.90   \n",
       "Clothing                1008.00    476.00    807.00    896.00   1418.00   \n",
       "Drinking Chocolate       316.74    276.22    375.40    554.03    593.49   \n",
       "Drip coffee             3583.50   3363.50   4560.50   5415.50   7290.50   \n",
       "Espresso Beans           806.25    674.50    857.20    783.45   1209.20   \n",
       "Gourmet Beans            666.00    837.00   1023.00   1119.00   1653.00   \n",
       "Gourmet brewed coffee   8072.10   7651.70   9789.10  11820.50  15559.20   \n",
       "Green beans              230.00    170.00    190.00    210.00    290.00   \n",
       "Green tea                185.00    157.25    249.75    231.25    314.50   \n",
       "Herbal tea               349.05    313.25    420.65    438.55    581.75   \n",
       "Hot chocolate           8337.75   8132.25  10253.50  12266.75  16319.75   \n",
       "House blend Beans        486.00    288.00    378.00    594.00    738.00   \n",
       "Housewares               882.00    759.00    994.00   1483.00   1471.00   \n",
       "Organic Beans           1076.00    847.00   1277.00   1486.50   1757.50   \n",
       "Organic Chocolate        205.20    174.80    212.80    319.20    387.60   \n",
       "Organic brewed coffee   4609.10   4077.50   5323.70   6611.00   8350.20   \n",
       "Pastry                  2875.58   2815.16   3724.59   4362.40   5842.22   \n",
       "Premium Beans           1981.00   1261.00   1531.00   2631.75   3121.25   \n",
       "Premium brewed coffee   4530.95   4149.10   5552.10   6568.30   8739.20   \n",
       "Regular syrup            721.60    669.60    861.60   1033.60   1368.00   \n",
       "Scone                   4349.15   3982.78   5249.79   6427.23   8305.28   \n",
       "Sugar free syrup         252.80    260.80    310.40    384.80    537.60   \n",
       "\n",
       "                                 \n",
       "month                         6  \n",
       "product_type                     \n",
       "Barista Espresso       21860.00  \n",
       "Biscotti                4663.34  \n",
       "Black tea                626.50  \n",
       "Brewed Black tea       11350.50  \n",
       "Brewed Chai tea        18188.15  \n",
       "Brewed Green tea        5493.50  \n",
       "Brewed herbal tea      11211.00  \n",
       "Chai tea                1184.65  \n",
       "Clothing                1558.00  \n",
       "Drinking Chocolate       612.16  \n",
       "Drip coffee             7770.50  \n",
       "Espresso Beans          1229.65  \n",
       "Gourmet Beans           1500.00  \n",
       "Gourmet brewed coffee  17142.00  \n",
       "Green beans              250.00  \n",
       "Green tea                333.00  \n",
       "Herbal tea               626.50  \n",
       "Hot chocolate          17106.00  \n",
       "House blend Beans        810.00  \n",
       "Housewares              1855.00  \n",
       "Organic Beans           2065.50  \n",
       "Organic Chocolate        380.00  \n",
       "Organic brewed coffee   8775.00  \n",
       "Pastry                  6036.04  \n",
       "Premium Beans           4057.50  \n",
       "Premium brewed coffee   9241.50  \n",
       "Regular syrup           1430.40  \n",
       "Scone                   8551.89  \n",
       "Sugar free syrup         577.60  "
      ]
     },
     "execution_count": 223,
     "metadata": {},
     "output_type": "execute_result"
    }
   ],
   "source": [
    "income_table = pd.pivot_table(df, index=[\"product_type\"], values=[\"income\"], columns=['month'], aggfunc=np.sum)\n",
    "income_table"
   ]
  },
  {
   "cell_type": "code",
   "execution_count": 224,
   "id": "3a5337cb",
   "metadata": {},
   "outputs": [],
   "source": [
    "df_train, df_test = train_test_split(income_table, test_size=0.2, random_state=20)"
   ]
  },
  {
   "cell_type": "code",
   "execution_count": 225,
   "id": "ce646614",
   "metadata": {},
   "outputs": [
    {
     "data": {
      "text/plain": [
       "product_type\n",
       "House blend Beans          810.00\n",
       "Scone                     8551.89\n",
       "Premium Beans             4057.50\n",
       "Pastry                    6036.04\n",
       "Organic Chocolate          380.00\n",
       "Brewed Green tea          5493.50\n",
       "Premium brewed coffee     9241.50\n",
       "Housewares                1855.00\n",
       "Green beans                250.00\n",
       "Hot chocolate            17106.00\n",
       "Brewed herbal tea        11211.00\n",
       "Herbal tea                 626.50\n",
       "Clothing                  1558.00\n",
       "Barista Espresso         21860.00\n",
       "Black tea                  626.50\n",
       "Chai tea                  1184.65\n",
       "Organic brewed coffee     8775.00\n",
       "Espresso Beans            1229.65\n",
       "Organic Beans             2065.50\n",
       "Drinking Chocolate         612.16\n",
       "Green tea                  333.00\n",
       "Regular syrup             1430.40\n",
       "Brewed Black tea         11350.50\n",
       "Name: (income, 6), dtype: float64"
      ]
     },
     "execution_count": 225,
     "metadata": {},
     "output_type": "execute_result"
    }
   ],
   "source": [
    "df_train[('income',6)]"
   ]
  },
  {
   "cell_type": "code",
   "execution_count": 226,
   "id": "48b21d65",
   "metadata": {},
   "outputs": [],
   "source": [
    "y_train = df_train[('income', 6)]  # колонка 6. Целевые метки на трейне \n",
    "X_train = df_train.drop(('income', 6), axis=1) # все колонки кроме 6-a. Признаки на трейне.\n",
    "\n",
    "y_test = df_test[('income', 6)]   # колонка 6. Целевые метки на тесте\n",
    "X_test = df_test.drop(('income', 6), axis=1)   # все колонки кроме 6-a. Признаки на тесте."
   ]
  },
  {
   "cell_type": "code",
   "execution_count": 227,
   "id": "3867a664",
   "metadata": {},
   "outputs": [
    {
     "data": {
      "text/plain": [
       "product_type\n",
       "House blend Beans          810.00\n",
       "Scone                     8551.89\n",
       "Premium Beans             4057.50\n",
       "Pastry                    6036.04\n",
       "Organic Chocolate          380.00\n",
       "Brewed Green tea          5493.50\n",
       "Premium brewed coffee     9241.50\n",
       "Housewares                1855.00\n",
       "Green beans                250.00\n",
       "Hot chocolate            17106.00\n",
       "Brewed herbal tea        11211.00\n",
       "Herbal tea                 626.50\n",
       "Clothing                  1558.00\n",
       "Barista Espresso         21860.00\n",
       "Black tea                  626.50\n",
       "Chai tea                  1184.65\n",
       "Organic brewed coffee     8775.00\n",
       "Espresso Beans            1229.65\n",
       "Organic Beans             2065.50\n",
       "Drinking Chocolate         612.16\n",
       "Green tea                  333.00\n",
       "Regular syrup             1430.40\n",
       "Brewed Black tea         11350.50\n",
       "Name: (income, 6), dtype: float64"
      ]
     },
     "execution_count": 227,
     "metadata": {},
     "output_type": "execute_result"
    }
   ],
   "source": [
    "y_train"
   ]
  },
  {
   "cell_type": "code",
   "execution_count": 228,
   "id": "9676980d",
   "metadata": {},
   "outputs": [
    {
     "data": {
      "text/html": [
       "<div>\n",
       "<style scoped>\n",
       "    .dataframe tbody tr th:only-of-type {\n",
       "        vertical-align: middle;\n",
       "    }\n",
       "\n",
       "    .dataframe tbody tr th {\n",
       "        vertical-align: top;\n",
       "    }\n",
       "\n",
       "    .dataframe thead tr th {\n",
       "        text-align: left;\n",
       "    }\n",
       "\n",
       "    .dataframe thead tr:last-of-type th {\n",
       "        text-align: right;\n",
       "    }\n",
       "</style>\n",
       "<table border=\"1\" class=\"dataframe\">\n",
       "  <thead>\n",
       "    <tr>\n",
       "      <th></th>\n",
       "      <th colspan=\"5\" halign=\"left\">income</th>\n",
       "    </tr>\n",
       "    <tr>\n",
       "      <th>month</th>\n",
       "      <th>1</th>\n",
       "      <th>2</th>\n",
       "      <th>3</th>\n",
       "      <th>4</th>\n",
       "      <th>5</th>\n",
       "    </tr>\n",
       "    <tr>\n",
       "      <th>product_type</th>\n",
       "      <th></th>\n",
       "      <th></th>\n",
       "      <th></th>\n",
       "      <th></th>\n",
       "      <th></th>\n",
       "    </tr>\n",
       "  </thead>\n",
       "  <tbody>\n",
       "    <tr>\n",
       "      <th>Gourmet brewed coffee</th>\n",
       "      <td>8072.10</td>\n",
       "      <td>7651.70</td>\n",
       "      <td>9789.10</td>\n",
       "      <td>11820.50</td>\n",
       "      <td>15559.20</td>\n",
       "    </tr>\n",
       "    <tr>\n",
       "      <th>Brewed Chai tea</th>\n",
       "      <td>8761.45</td>\n",
       "      <td>8383.40</td>\n",
       "      <td>11029.65</td>\n",
       "      <td>13291.95</td>\n",
       "      <td>17427.35</td>\n",
       "    </tr>\n",
       "    <tr>\n",
       "      <th>Biscotti</th>\n",
       "      <td>2311.02</td>\n",
       "      <td>2240.88</td>\n",
       "      <td>2928.20</td>\n",
       "      <td>3232.07</td>\n",
       "      <td>4418.02</td>\n",
       "    </tr>\n",
       "    <tr>\n",
       "      <th>Drip coffee</th>\n",
       "      <td>3583.50</td>\n",
       "      <td>3363.50</td>\n",
       "      <td>4560.50</td>\n",
       "      <td>5415.50</td>\n",
       "      <td>7290.50</td>\n",
       "    </tr>\n",
       "    <tr>\n",
       "      <th>Sugar free syrup</th>\n",
       "      <td>252.80</td>\n",
       "      <td>260.80</td>\n",
       "      <td>310.40</td>\n",
       "      <td>384.80</td>\n",
       "      <td>537.60</td>\n",
       "    </tr>\n",
       "    <tr>\n",
       "      <th>Gourmet Beans</th>\n",
       "      <td>666.00</td>\n",
       "      <td>837.00</td>\n",
       "      <td>1023.00</td>\n",
       "      <td>1119.00</td>\n",
       "      <td>1653.00</td>\n",
       "    </tr>\n",
       "  </tbody>\n",
       "</table>\n",
       "</div>"
      ],
      "text/plain": [
       "                        income                                       \n",
       "month                        1        2         3         4         5\n",
       "product_type                                                         \n",
       "Gourmet brewed coffee  8072.10  7651.70   9789.10  11820.50  15559.20\n",
       "Brewed Chai tea        8761.45  8383.40  11029.65  13291.95  17427.35\n",
       "Biscotti               2311.02  2240.88   2928.20   3232.07   4418.02\n",
       "Drip coffee            3583.50  3363.50   4560.50   5415.50   7290.50\n",
       "Sugar free syrup        252.80   260.80    310.40    384.80    537.60\n",
       "Gourmet Beans           666.00   837.00   1023.00   1119.00   1653.00"
      ]
     },
     "execution_count": 228,
     "metadata": {},
     "output_type": "execute_result"
    }
   ],
   "source": [
    "X_test"
   ]
  },
  {
   "cell_type": "code",
   "execution_count": 229,
   "id": "9ce1e36f",
   "metadata": {},
   "outputs": [
    {
     "data": {
      "text/html": [
       "<style>#sk-container-id-8 {color: black;background-color: white;}#sk-container-id-8 pre{padding: 0;}#sk-container-id-8 div.sk-toggleable {background-color: white;}#sk-container-id-8 label.sk-toggleable__label {cursor: pointer;display: block;width: 100%;margin-bottom: 0;padding: 0.3em;box-sizing: border-box;text-align: center;}#sk-container-id-8 label.sk-toggleable__label-arrow:before {content: \"▸\";float: left;margin-right: 0.25em;color: #696969;}#sk-container-id-8 label.sk-toggleable__label-arrow:hover:before {color: black;}#sk-container-id-8 div.sk-estimator:hover label.sk-toggleable__label-arrow:before {color: black;}#sk-container-id-8 div.sk-toggleable__content {max-height: 0;max-width: 0;overflow: hidden;text-align: left;background-color: #f0f8ff;}#sk-container-id-8 div.sk-toggleable__content pre {margin: 0.2em;color: black;border-radius: 0.25em;background-color: #f0f8ff;}#sk-container-id-8 input.sk-toggleable__control:checked~div.sk-toggleable__content {max-height: 200px;max-width: 100%;overflow: auto;}#sk-container-id-8 input.sk-toggleable__control:checked~label.sk-toggleable__label-arrow:before {content: \"▾\";}#sk-container-id-8 div.sk-estimator input.sk-toggleable__control:checked~label.sk-toggleable__label {background-color: #d4ebff;}#sk-container-id-8 div.sk-label input.sk-toggleable__control:checked~label.sk-toggleable__label {background-color: #d4ebff;}#sk-container-id-8 input.sk-hidden--visually {border: 0;clip: rect(1px 1px 1px 1px);clip: rect(1px, 1px, 1px, 1px);height: 1px;margin: -1px;overflow: hidden;padding: 0;position: absolute;width: 1px;}#sk-container-id-8 div.sk-estimator {font-family: monospace;background-color: #f0f8ff;border: 1px dotted black;border-radius: 0.25em;box-sizing: border-box;margin-bottom: 0.5em;}#sk-container-id-8 div.sk-estimator:hover {background-color: #d4ebff;}#sk-container-id-8 div.sk-parallel-item::after {content: \"\";width: 100%;border-bottom: 1px solid gray;flex-grow: 1;}#sk-container-id-8 div.sk-label:hover label.sk-toggleable__label {background-color: #d4ebff;}#sk-container-id-8 div.sk-serial::before {content: \"\";position: absolute;border-left: 1px solid gray;box-sizing: border-box;top: 0;bottom: 0;left: 50%;z-index: 0;}#sk-container-id-8 div.sk-serial {display: flex;flex-direction: column;align-items: center;background-color: white;padding-right: 0.2em;padding-left: 0.2em;position: relative;}#sk-container-id-8 div.sk-item {position: relative;z-index: 1;}#sk-container-id-8 div.sk-parallel {display: flex;align-items: stretch;justify-content: center;background-color: white;position: relative;}#sk-container-id-8 div.sk-item::before, #sk-container-id-8 div.sk-parallel-item::before {content: \"\";position: absolute;border-left: 1px solid gray;box-sizing: border-box;top: 0;bottom: 0;left: 50%;z-index: -1;}#sk-container-id-8 div.sk-parallel-item {display: flex;flex-direction: column;z-index: 1;position: relative;background-color: white;}#sk-container-id-8 div.sk-parallel-item:first-child::after {align-self: flex-end;width: 50%;}#sk-container-id-8 div.sk-parallel-item:last-child::after {align-self: flex-start;width: 50%;}#sk-container-id-8 div.sk-parallel-item:only-child::after {width: 0;}#sk-container-id-8 div.sk-dashed-wrapped {border: 1px dashed gray;margin: 0 0.4em 0.5em 0.4em;box-sizing: border-box;padding-bottom: 0.4em;background-color: white;}#sk-container-id-8 div.sk-label label {font-family: monospace;font-weight: bold;display: inline-block;line-height: 1.2em;}#sk-container-id-8 div.sk-label-container {text-align: center;}#sk-container-id-8 div.sk-container {/* jupyter's `normalize.less` sets `[hidden] { display: none; }` but bootstrap.min.css set `[hidden] { display: none !important; }` so we also need the `!important` here to be able to override the default hidden behavior on the sphinx rendered scikit-learn.org. See: https://github.com/scikit-learn/scikit-learn/issues/21755 */display: inline-block !important;position: relative;}#sk-container-id-8 div.sk-text-repr-fallback {display: none;}</style><div id=\"sk-container-id-8\" class=\"sk-top-container\"><div class=\"sk-text-repr-fallback\"><pre>LinearRegression()</pre><b>In a Jupyter environment, please rerun this cell to show the HTML representation or trust the notebook. <br />On GitHub, the HTML representation is unable to render, please try loading this page with nbviewer.org.</b></div><div class=\"sk-container\" hidden><div class=\"sk-item\"><div class=\"sk-estimator sk-toggleable\"><input class=\"sk-toggleable__control sk-hidden--visually\" id=\"sk-estimator-id-8\" type=\"checkbox\" checked><label for=\"sk-estimator-id-8\" class=\"sk-toggleable__label sk-toggleable__label-arrow\">LinearRegression</label><div class=\"sk-toggleable__content\"><pre>LinearRegression()</pre></div></div></div></div></div>"
      ],
      "text/plain": [
       "LinearRegression()"
      ]
     },
     "execution_count": 229,
     "metadata": {},
     "output_type": "execute_result"
    }
   ],
   "source": [
    "# LinearRegression- т.е. подгрузили экземпляр нашей модели\n",
    "model = LinearRegression(fit_intercept=True, copy_X=True, n_jobs=None, positive=False)\n",
    "model.fit(X_train,y_train)    # обучили модель с дефолтными параметрами"
   ]
  },
  {
   "cell_type": "code",
   "execution_count": 230,
   "id": "0e0e2ab9",
   "metadata": {},
   "outputs": [
    {
     "data": {
      "text/plain": [
       "array([ 0.30771357, -0.35831062, -0.20814677,  0.74094659,  0.6443773 ])"
      ]
     },
     "execution_count": 230,
     "metadata": {},
     "output_type": "execute_result"
    }
   ],
   "source": [
    "model.coef_   "
   ]
  },
  {
   "cell_type": "code",
   "execution_count": 231,
   "id": "2d25a5cc",
   "metadata": {},
   "outputs": [
    {
     "data": {
      "text/plain": [
       "-19.723156589457176"
      ]
     },
     "execution_count": 231,
     "metadata": {},
     "output_type": "execute_result"
    }
   ],
   "source": [
    "model.intercept_"
   ]
  },
  {
   "cell_type": "markdown",
   "id": "4df6bbc8",
   "metadata": {},
   "source": [
    "Вывод: Наблюдаем зависимость между выручками каждого продукта периода с января до мае и выручками для каждого продукта за июня. Согласно модели с дефолтными параметрами: Если выручка каждого продукта за февраль растет на 1000 долларов, то выручка каждого продукта за июнь уменьшается на 358 долларов. Если выручка каждого продукта за мае растет на 1000 долларов, то выручка каждого продукта за июнь увеличивается на 644.3 долларов."
   ]
  },
  {
   "cell_type": "code",
   "execution_count": 232,
   "id": "b9940e66",
   "metadata": {},
   "outputs": [
    {
     "data": {
      "text/plain": [
       "array([16469.27110993, 18455.06041865,  4520.64563488,  7638.96628102,\n",
       "         531.54415208,  1566.6488612 ])"
      ]
     },
     "execution_count": 232,
     "metadata": {},
     "output_type": "execute_result"
    }
   ],
   "source": [
    "y_test_pred = model.predict(X_test)\n",
    "y_test_pred          # получаем предсказания"
   ]
  },
  {
   "cell_type": "code",
   "execution_count": 233,
   "id": "53c9b4ba",
   "metadata": {},
   "outputs": [
    {
     "data": {
      "text/plain": [
       "array([  863.62542298,  8912.73817809,  3780.60386607,  6078.06809066,\n",
       "         422.76413234,  5628.53974966,  9230.29496757,  1819.52736369,\n",
       "         293.058474  , 17102.89426521, 11399.20431953,   587.69514657,\n",
       "        1529.53698049, 21571.00259048,   546.10070111,   980.57951535,\n",
       "        9108.51419296,  1167.9426238 ,  1975.99433616,   693.569306  ,\n",
       "         302.87541322,  1430.40945108, 11218.75091299])"
      ]
     },
     "execution_count": 233,
     "metadata": {},
     "output_type": "execute_result"
    }
   ],
   "source": [
    "y_train_pred = model.predict(X_train)\n",
    "y_train_pred"
   ]
  },
  {
   "cell_type": "code",
   "execution_count": 234,
   "id": "2e6bd143",
   "metadata": {},
   "outputs": [
    {
     "name": "stdout",
     "output_type": "stream",
     "text": [
      "Test MSE = 94671.8907\n",
      "Train MSE = 24006.3337\n"
     ]
    }
   ],
   "source": [
    "from sklearn.metrics import mean_absolute_percentage_error\n",
    "from sklearn.metrics import mean_squared_error\n",
    "from sklearn.metrics import mean_absolute_error\n",
    "print(\"Test MSE = %.4f\" % mean_squared_error(y_test, y_test_pred))\n",
    "print(\"Train MSE = %.4f\" % mean_squared_error(y_train, y_train_pred))  "
   ]
  },
  {
   "cell_type": "code",
   "execution_count": 235,
   "id": "1a3a9e42",
   "metadata": {},
   "outputs": [
    {
     "name": "stdout",
     "output_type": "stream",
     "text": [
      "Test MAE = 221.0954\n",
      "Train MAE = 111.3479\n"
     ]
    }
   ],
   "source": [
    "print(\"Test MAE = %.4f\" % mean_absolute_error(y_test, y_test_pred))\n",
    "print(\"Train MAE = %.4f\" % mean_absolute_error(y_train, y_train_pred))"
   ]
  },
  {
   "cell_type": "code",
   "execution_count": 236,
   "id": "23dcf3b4",
   "metadata": {},
   "outputs": [
    {
     "name": "stdout",
     "output_type": "stream",
     "text": [
      "Test MAPE = 0.0376\n",
      "Train MAPE = 0.0561\n"
     ]
    }
   ],
   "source": [
    "print(\"Test MAPE = %.4f\" % mean_absolute_percentage_error(y_test, y_test_pred))\n",
    "print(\"Train MAPE = %.4f\" % mean_absolute_percentage_error(y_train, y_train_pred))"
   ]
  },
  {
   "cell_type": "markdown",
   "id": "870efc42",
   "metadata": {},
   "source": [
    "Вывод:Получается, что наша модель дает большую ошибку. Тогда можем сказать, что наша модель имеет плохое качество. У нас MSE, MAE на тесте значительно больше, чем на трейне. Скорее всего модель переобучилась. Поэтому добавим регуляризацию и отнормируем данные."
   ]
  },
  {
   "cell_type": "code",
   "execution_count": 237,
   "id": "e55b3dc6",
   "metadata": {},
   "outputs": [
    {
     "data": {
      "image/png": "[encoded data removed]",
      "text/plain": [
       "<Figure size 2000x500 with 3 Axes>"
      ]
     },
     "metadata": {},
     "output_type": "display_data"
    }
   ],
   "source": [
    "fig, axs = plt.subplots(figsize=(20, 5), ncols=3)\n",
    "for i, feature in enumerate([ ('income', 1),('income', 3), ('income', 5)]):\n",
    "    axs[i].scatter(X_train[feature], y_train, alpha=0.2)\n",
    "    axs[i].set_xlabel(feature)\n",
    "    axs[i].set_ylabel(\"Income\")\n",
    "plt.tight_layout()    "
   ]
  },
  {
   "cell_type": "markdown",
   "id": "669e8b49",
   "metadata": {},
   "source": [
    "Если посмотреть на облака рассеивания, видно, что между выручками для каждого продукта январь, март, мая и выручками для каждого товара за июль есть линейная связь."
   ]
  },
  {
   "cell_type": "markdown",
   "id": "b28f859d",
   "metadata": {},
   "source": [
    "Нормировка данных"
   ]
  },
  {
   "cell_type": "code",
   "execution_count": 238,
   "id": "11bda6e2",
   "metadata": {},
   "outputs": [],
   "source": [
    "scaler = StandardScaler()   \n",
    "\n",
    "X_train_scaled = scaler.fit_transform(X_train)\n",
    "X_test_scaled = scaler.transform(X_test)"
   ]
  },
  {
   "cell_type": "code",
   "execution_count": 239,
   "id": "b64cecbe",
   "metadata": {},
   "outputs": [
    {
     "data": {
      "text/plain": [
       "array([[-0.73023732, -0.75104461, -0.75423156, -0.73370875, -0.73397423],\n",
       "       [ 0.65459514,  0.61317924,  0.64267367,  0.67223495,  0.64159337],\n",
       "       [-0.19432116, -0.39178376, -0.42362788, -0.24256375, -0.300751  ],\n",
       "       [ 0.12636104,  0.18205884,  0.20534779,  0.17456304,  0.19386241],\n",
       "       [-0.83089636, -0.79284145, -0.80159993, -0.79994192, -0.79766936],\n",
       "       [ 0.12920014,  0.15966134,  0.09077196,  0.08516753,  0.1142944 ],\n",
       "       [ 0.71976541,  0.67458959,  0.72935606,  0.70623609,  0.72047063],\n",
       "       [-0.58828227, -0.57713725, -0.57760375, -0.51943913, -0.60073071],\n",
       "       [-0.82200624, -0.79461376, -0.80813746, -0.82626165, -0.81541093],\n",
       "       [ 2.08439795,  2.14528831,  2.07740478,  2.07969468,  2.09845043],\n",
       "       [ 1.04617241,  1.07221344,  1.05304948,  1.06336015,  1.11871062],\n",
       "       [-0.77933011, -0.74172155, -0.74200238, -0.7711758 , -0.7623771 ],\n",
       "       [-0.54311476, -0.68162936, -0.63122291, -0.66091975, -0.61036496],\n",
       "       [ 2.84559607,  2.84494236,  2.88734081,  2.8724561 ,  2.84446874],\n",
       "       [-0.76970513, -0.73180772, -0.74456865, -0.77549012, -0.77051168],\n",
       "       [-0.76683735, -0.68486012, -0.70065542, -0.69883269, -0.69327406],\n",
       "       [ 0.74778002,  0.64815271,  0.66386614,  0.71652778,  0.64975886],\n",
       "       [-0.61543655, -0.60833719, -0.61682889, -0.68804691, -0.64832028],\n",
       "       [-0.51873864, -0.54464501, -0.49645818, -0.51859555, -0.54865121],\n",
       "       [-0.79091235, -0.75539414, -0.75497707, -0.74334245, -0.76024302],\n",
       "       [-0.8381375 , -0.79932144, -0.79100513, -0.82113991, -0.81095736],\n",
       "       [-0.64578124, -0.61014642, -0.61556726, -0.62775496, -0.61945388],\n",
       "       [ 1.07986881,  1.12519796,  1.10867577,  1.05697303,  1.09108031]])"
      ]
     },
     "execution_count": 239,
     "metadata": {},
     "output_type": "execute_result"
    }
   ],
   "source": [
    "X_train_scaled"
   ]
  },
  {
   "cell_type": "code",
   "execution_count": 240,
   "id": "33d43b26",
   "metadata": {},
   "outputs": [
    {
     "data": {
      "text/plain": [
       "product_type\n",
       "House blend Beans          810.00\n",
       "Scone                     8551.89\n",
       "Premium Beans             4057.50\n",
       "Pastry                    6036.04\n",
       "Organic Chocolate          380.00\n",
       "Brewed Green tea          5493.50\n",
       "Premium brewed coffee     9241.50\n",
       "Housewares                1855.00\n",
       "Green beans                250.00\n",
       "Hot chocolate            17106.00\n",
       "Brewed herbal tea        11211.00\n",
       "Herbal tea                 626.50\n",
       "Clothing                  1558.00\n",
       "Barista Espresso         21860.00\n",
       "Black tea                  626.50\n",
       "Chai tea                  1184.65\n",
       "Organic brewed coffee     8775.00\n",
       "Espresso Beans            1229.65\n",
       "Organic Beans             2065.50\n",
       "Drinking Chocolate         612.16\n",
       "Green tea                  333.00\n",
       "Regular syrup             1430.40\n",
       "Brewed Black tea         11350.50\n",
       "Name: (income, 6), dtype: float64"
      ]
     },
     "execution_count": 240,
     "metadata": {},
     "output_type": "execute_result"
    }
   ],
   "source": [
    "y_train"
   ]
  },
  {
   "cell_type": "code",
   "execution_count": 241,
   "id": "de280f95",
   "metadata": {},
   "outputs": [
    {
     "data": {
      "text/html": [
       "<style>#sk-container-id-9 {color: black;background-color: white;}#sk-container-id-9 pre{padding: 0;}#sk-container-id-9 div.sk-toggleable {background-color: white;}#sk-container-id-9 label.sk-toggleable__label {cursor: pointer;display: block;width: 100%;margin-bottom: 0;padding: 0.3em;box-sizing: border-box;text-align: center;}#sk-container-id-9 label.sk-toggleable__label-arrow:before {content: \"▸\";float: left;margin-right: 0.25em;color: #696969;}#sk-container-id-9 label.sk-toggleable__label-arrow:hover:before {color: black;}#sk-container-id-9 div.sk-estimator:hover label.sk-toggleable__label-arrow:before {color: black;}#sk-container-id-9 div.sk-toggleable__content {max-height: 0;max-width: 0;overflow: hidden;text-align: left;background-color: #f0f8ff;}#sk-container-id-9 div.sk-toggleable__content pre {margin: 0.2em;color: black;border-radius: 0.25em;background-color: #f0f8ff;}#sk-container-id-9 input.sk-toggleable__control:checked~div.sk-toggleable__content {max-height: 200px;max-width: 100%;overflow: auto;}#sk-container-id-9 input.sk-toggleable__control:checked~label.sk-toggleable__label-arrow:before {content: \"▾\";}#sk-container-id-9 div.sk-estimator input.sk-toggleable__control:checked~label.sk-toggleable__label {background-color: #d4ebff;}#sk-container-id-9 div.sk-label input.sk-toggleable__control:checked~label.sk-toggleable__label {background-color: #d4ebff;}#sk-container-id-9 input.sk-hidden--visually {border: 0;clip: rect(1px 1px 1px 1px);clip: rect(1px, 1px, 1px, 1px);height: 1px;margin: -1px;overflow: hidden;padding: 0;position: absolute;width: 1px;}#sk-container-id-9 div.sk-estimator {font-family: monospace;background-color: #f0f8ff;border: 1px dotted black;border-radius: 0.25em;box-sizing: border-box;margin-bottom: 0.5em;}#sk-container-id-9 div.sk-estimator:hover {background-color: #d4ebff;}#sk-container-id-9 div.sk-parallel-item::after {content: \"\";width: 100%;border-bottom: 1px solid gray;flex-grow: 1;}#sk-container-id-9 div.sk-label:hover label.sk-toggleable__label {background-color: #d4ebff;}#sk-container-id-9 div.sk-serial::before {content: \"\";position: absolute;border-left: 1px solid gray;box-sizing: border-box;top: 0;bottom: 0;left: 50%;z-index: 0;}#sk-container-id-9 div.sk-serial {display: flex;flex-direction: column;align-items: center;background-color: white;padding-right: 0.2em;padding-left: 0.2em;position: relative;}#sk-container-id-9 div.sk-item {position: relative;z-index: 1;}#sk-container-id-9 div.sk-parallel {display: flex;align-items: stretch;justify-content: center;background-color: white;position: relative;}#sk-container-id-9 div.sk-item::before, #sk-container-id-9 div.sk-parallel-item::before {content: \"\";position: absolute;border-left: 1px solid gray;box-sizing: border-box;top: 0;bottom: 0;left: 50%;z-index: -1;}#sk-container-id-9 div.sk-parallel-item {display: flex;flex-direction: column;z-index: 1;position: relative;background-color: white;}#sk-container-id-9 div.sk-parallel-item:first-child::after {align-self: flex-end;width: 50%;}#sk-container-id-9 div.sk-parallel-item:last-child::after {align-self: flex-start;width: 50%;}#sk-container-id-9 div.sk-parallel-item:only-child::after {width: 0;}#sk-container-id-9 div.sk-dashed-wrapped {border: 1px dashed gray;margin: 0 0.4em 0.5em 0.4em;box-sizing: border-box;padding-bottom: 0.4em;background-color: white;}#sk-container-id-9 div.sk-label label {font-family: monospace;font-weight: bold;display: inline-block;line-height: 1.2em;}#sk-container-id-9 div.sk-label-container {text-align: center;}#sk-container-id-9 div.sk-container {/* jupyter's `normalize.less` sets `[hidden] { display: none; }` but bootstrap.min.css set `[hidden] { display: none !important; }` so we also need the `!important` here to be able to override the default hidden behavior on the sphinx rendered scikit-learn.org. See: https://github.com/scikit-learn/scikit-learn/issues/21755 */display: inline-block !important;position: relative;}#sk-container-id-9 div.sk-text-repr-fallback {display: none;}</style><div id=\"sk-container-id-9\" class=\"sk-top-container\"><div class=\"sk-text-repr-fallback\"><pre>Ridge()</pre><b>In a Jupyter environment, please rerun this cell to show the HTML representation or trust the notebook. <br />On GitHub, the HTML representation is unable to render, please try loading this page with nbviewer.org.</b></div><div class=\"sk-container\" hidden><div class=\"sk-item\"><div class=\"sk-estimator sk-toggleable\"><input class=\"sk-toggleable__control sk-hidden--visually\" id=\"sk-estimator-id-9\" type=\"checkbox\" checked><label for=\"sk-estimator-id-9\" class=\"sk-toggleable__label sk-toggleable__label-arrow\">Ridge</label><div class=\"sk-toggleable__content\"><pre>Ridge()</pre></div></div></div></div></div>"
      ],
      "text/plain": [
       "Ridge()"
      ]
     },
     "execution_count": 241,
     "metadata": {},
     "output_type": "execute_result"
    }
   ],
   "source": [
    "model_ridge = Ridge()   #подгрузили экземпляр модели\n",
    "model_ridge.fit(X_train_scaled, y_train)\n",
    "model_ridge"
   ]
  },
  {
   "cell_type": "code",
   "execution_count": 242,
   "id": "f6b9aa49",
   "metadata": {},
   "outputs": [
    {
     "data": {
      "text/plain": [
       "array([16348.32970166, 18144.26784397,  4728.37757807,  7473.07777018,\n",
       "         592.62187353,  1669.78650377])"
      ]
     },
     "execution_count": 242,
     "metadata": {},
     "output_type": "execute_result"
    }
   ],
   "source": [
    "y_test_predr = model_ridge.predict(X_test_scaled)\n",
    "y_test_predr  "
   ]
  },
  {
   "cell_type": "code",
   "execution_count": 243,
   "id": "d9439cfd",
   "metadata": {},
   "outputs": [
    {
     "data": {
      "text/plain": [
       "array([  828.97081947,  8772.89960191,  3317.26565802,  6077.33604087,\n",
       "         456.99251404,  5732.58604649,  9143.80901663,  1791.66824074,\n",
       "         406.3165476 , 17087.90276731, 11208.78312568,   714.21647206,\n",
       "        1494.34490015, 21458.55241723,   719.02830499,  1002.66694956,\n",
       "        9009.18204989,  1423.57843946,  2059.67436457,   707.78290563,\n",
       "         411.57787033,  1492.83050718, 11326.32444019])"
      ]
     },
     "execution_count": 243,
     "metadata": {},
     "output_type": "execute_result"
    }
   ],
   "source": [
    "y_train_predr = model_ridge.predict(X_train_scaled)\n",
    "y_train_predr "
   ]
  },
  {
   "cell_type": "code",
   "execution_count": 244,
   "id": "b0cd81ae",
   "metadata": {},
   "outputs": [
    {
     "name": "stdout",
     "output_type": "stream",
     "text": [
      "Test MSE = 125596.8615\n",
      "Train MSE = 44658.1905\n"
     ]
    }
   ],
   "source": [
    "print(\"Test MSE = %.4f\" % mean_squared_error(y_test, y_test_predr))\n",
    "print(\"Train MSE = %.4f\" % mean_squared_error(y_train, y_train_predr))"
   ]
  },
  {
   "cell_type": "code",
   "execution_count": 245,
   "id": "17eb293e",
   "metadata": {},
   "outputs": [
    {
     "name": "stdout",
     "output_type": "stream",
     "text": [
      "Test MAE = 230.8034\n",
      "Train MAE = 139.0137\n"
     ]
    }
   ],
   "source": [
    "print(\"Test MAE = %.4f\" % mean_absolute_error(y_test, y_test_predr))\n",
    "print(\"Train MAE = %.4f\" % mean_absolute_error(y_train, y_train_predr))"
   ]
  },
  {
   "cell_type": "code",
   "execution_count": 246,
   "id": "1e1506b4",
   "metadata": {},
   "outputs": [
    {
     "name": "stdout",
     "output_type": "stream",
     "text": [
      "Test MAPE = 0.0400\n",
      "Train MAPE = 0.0992\n"
     ]
    }
   ],
   "source": [
    "print(\"Test MAPE = %.4f\" % mean_absolute_percentage_error(y_test, y_test_predr))\n",
    "print(\"Train MAPE = %.4f\" % mean_absolute_percentage_error(y_train, y_train_predr))   "
   ]
  },
  {
   "cell_type": "markdown",
   "id": "0439f728",
   "metadata": {},
   "source": [
    "Модель немного усложнили. MAPE данных на тесте и трейне раньше было 0.0376 и 0.0561 соответственно. Это говорит о переобучении модели. Надо, чтобы разница ошибок на трейне и тесте по возможности были ближе друг к другу. Чтобы модель более качественно получилась, подберем параметры по сетке."
   ]
  },
  {
   "cell_type": "code",
   "execution_count": 247,
   "id": "cb4f300d",
   "metadata": {},
   "outputs": [
    {
     "name": "stdout",
     "output_type": "stream",
     "text": [
      "Комбинация параметров, которая лучше всего даст neg_root_mean_squared_error: : \n",
      "{'solver': 'sag'}\n",
      "Наилучшая neg_root_mean_squared_error, полученная после перебора параметров с помощью поиска по сетке :  -225.95137986934537\n"
     ]
    }
   ],
   "source": [
    "parameters = {'solver' :['sparse_cg', 'cholesky', 'svd' 'lsqr', 'sag', 'saga']}   \n",
    "grid = GridSearchCV(model_ridge, parameters, scoring= 'neg_root_mean_squared_error')\n",
    "grid.fit(X_train_scaled,y_train)\n",
    "print('Комбинация параметров, которая лучше всего даст neg_root_mean_squared_error: : ')\n",
    "print(grid.best_params_)\n",
    "print('Наилучшая neg_root_mean_squared_error, полученная после перебора параметров с помощью поиска по сетке : ', \n",
    "      grid.best_score_)"
   ]
  },
  {
   "cell_type": "code",
   "execution_count": 248,
   "id": "4ae6c206",
   "metadata": {},
   "outputs": [],
   "source": [
    "model_r1 = Ridge(solver='saga')"
   ]
  },
  {
   "cell_type": "markdown",
   "id": "90e0b63d",
   "metadata": {},
   "source": [
    "Проверяем результаты подбора параметров"
   ]
  },
  {
   "cell_type": "code",
   "execution_count": 249,
   "id": "8a0e76cf",
   "metadata": {},
   "outputs": [
    {
     "data": {
      "text/html": [
       "<style>#sk-container-id-10 {color: black;background-color: white;}#sk-container-id-10 pre{padding: 0;}#sk-container-id-10 div.sk-toggleable {background-color: white;}#sk-container-id-10 label.sk-toggleable__label {cursor: pointer;display: block;width: 100%;margin-bottom: 0;padding: 0.3em;box-sizing: border-box;text-align: center;}#sk-container-id-10 label.sk-toggleable__label-arrow:before {content: \"▸\";float: left;margin-right: 0.25em;color: #696969;}#sk-container-id-10 label.sk-toggleable__label-arrow:hover:before {color: black;}#sk-container-id-10 div.sk-estimator:hover label.sk-toggleable__label-arrow:before {color: black;}#sk-container-id-10 div.sk-toggleable__content {max-height: 0;max-width: 0;overflow: hidden;text-align: left;background-color: #f0f8ff;}#sk-container-id-10 div.sk-toggleable__content pre {margin: 0.2em;color: black;border-radius: 0.25em;background-color: #f0f8ff;}#sk-container-id-10 input.sk-toggleable__control:checked~div.sk-toggleable__content {max-height: 200px;max-width: 100%;overflow: auto;}#sk-container-id-10 input.sk-toggleable__control:checked~label.sk-toggleable__label-arrow:before {content: \"▾\";}#sk-container-id-10 div.sk-estimator input.sk-toggleable__control:checked~label.sk-toggleable__label {background-color: #d4ebff;}#sk-container-id-10 div.sk-label input.sk-toggleable__control:checked~label.sk-toggleable__label {background-color: #d4ebff;}#sk-container-id-10 input.sk-hidden--visually {border: 0;clip: rect(1px 1px 1px 1px);clip: rect(1px, 1px, 1px, 1px);height: 1px;margin: -1px;overflow: hidden;padding: 0;position: absolute;width: 1px;}#sk-container-id-10 div.sk-estimator {font-family: monospace;background-color: #f0f8ff;border: 1px dotted black;border-radius: 0.25em;box-sizing: border-box;margin-bottom: 0.5em;}#sk-container-id-10 div.sk-estimator:hover {background-color: #d4ebff;}#sk-container-id-10 div.sk-parallel-item::after {content: \"\";width: 100%;border-bottom: 1px solid gray;flex-grow: 1;}#sk-container-id-10 div.sk-label:hover label.sk-toggleable__label {background-color: #d4ebff;}#sk-container-id-10 div.sk-serial::before {content: \"\";position: absolute;border-left: 1px solid gray;box-sizing: border-box;top: 0;bottom: 0;left: 50%;z-index: 0;}#sk-container-id-10 div.sk-serial {display: flex;flex-direction: column;align-items: center;background-color: white;padding-right: 0.2em;padding-left: 0.2em;position: relative;}#sk-container-id-10 div.sk-item {position: relative;z-index: 1;}#sk-container-id-10 div.sk-parallel {display: flex;align-items: stretch;justify-content: center;background-color: white;position: relative;}#sk-container-id-10 div.sk-item::before, #sk-container-id-10 div.sk-parallel-item::before {content: \"\";position: absolute;border-left: 1px solid gray;box-sizing: border-box;top: 0;bottom: 0;left: 50%;z-index: -1;}#sk-container-id-10 div.sk-parallel-item {display: flex;flex-direction: column;z-index: 1;position: relative;background-color: white;}#sk-container-id-10 div.sk-parallel-item:first-child::after {align-self: flex-end;width: 50%;}#sk-container-id-10 div.sk-parallel-item:last-child::after {align-self: flex-start;width: 50%;}#sk-container-id-10 div.sk-parallel-item:only-child::after {width: 0;}#sk-container-id-10 div.sk-dashed-wrapped {border: 1px dashed gray;margin: 0 0.4em 0.5em 0.4em;box-sizing: border-box;padding-bottom: 0.4em;background-color: white;}#sk-container-id-10 div.sk-label label {font-family: monospace;font-weight: bold;display: inline-block;line-height: 1.2em;}#sk-container-id-10 div.sk-label-container {text-align: center;}#sk-container-id-10 div.sk-container {/* jupyter's `normalize.less` sets `[hidden] { display: none; }` but bootstrap.min.css set `[hidden] { display: none !important; }` so we also need the `!important` here to be able to override the default hidden behavior on the sphinx rendered scikit-learn.org. See: https://github.com/scikit-learn/scikit-learn/issues/21755 */display: inline-block !important;position: relative;}#sk-container-id-10 div.sk-text-repr-fallback {display: none;}</style><div id=\"sk-container-id-10\" class=\"sk-top-container\"><div class=\"sk-text-repr-fallback\"><pre>Ridge(alpha=0, solver=&#x27;saga&#x27;)</pre><b>In a Jupyter environment, please rerun this cell to show the HTML representation or trust the notebook. <br />On GitHub, the HTML representation is unable to render, please try loading this page with nbviewer.org.</b></div><div class=\"sk-container\" hidden><div class=\"sk-item\"><div class=\"sk-estimator sk-toggleable\"><input class=\"sk-toggleable__control sk-hidden--visually\" id=\"sk-estimator-id-10\" type=\"checkbox\" checked><label for=\"sk-estimator-id-10\" class=\"sk-toggleable__label sk-toggleable__label-arrow\">Ridge</label><div class=\"sk-toggleable__content\"><pre>Ridge(alpha=0, solver=&#x27;saga&#x27;)</pre></div></div></div></div></div>"
      ],
      "text/plain": [
       "Ridge(alpha=0, solver='saga')"
      ]
     },
     "execution_count": 249,
     "metadata": {},
     "output_type": "execute_result"
    }
   ],
   "source": [
    "model_ridgep = Ridge(solver='saga', alpha=0)\n",
    "model_ridgep"
   ]
  },
  {
   "cell_type": "code",
   "execution_count": 250,
   "id": "f0c3cbf2",
   "metadata": {},
   "outputs": [],
   "source": [
    "model_ridgep.fit(X_train_scaled,y_train) \n",
    "y_pred_test_ridgep = model_ridgep.predict(X_test_scaled)\n",
    "y_pred_train_ridgep = model_ridgep.predict(X_train_scaled)"
   ]
  },
  {
   "cell_type": "code",
   "execution_count": 251,
   "id": "949f18aa",
   "metadata": {},
   "outputs": [
    {
     "name": "stdout",
     "output_type": "stream",
     "text": [
      "Test MSE = 90235.1605\n",
      "Train MSE = 31436.0739\n"
     ]
    }
   ],
   "source": [
    "print(\"Test MSE = %.4f\" % mean_squared_error(y_test, y_pred_test_ridgep))\n",
    "print(\"Train MSE = %.4f\" % mean_squared_error(y_train, y_pred_train_ridgep))  "
   ]
  },
  {
   "cell_type": "code",
   "execution_count": 252,
   "id": "5741217e",
   "metadata": {},
   "outputs": [
    {
     "name": "stdout",
     "output_type": "stream",
     "text": [
      "Test MAE = 194.5045\n",
      "Train MAE = 110.7230\n"
     ]
    }
   ],
   "source": [
    "print(\"Test MAE = %.4f\" % mean_absolute_error(y_test, y_pred_test_ridgep))\n",
    "print(\"Train MAE = %.4f\" % mean_absolute_error(y_train, y_pred_train_ridgep))"
   ]
  },
  {
   "cell_type": "code",
   "execution_count": 253,
   "id": "25cf8348",
   "metadata": {},
   "outputs": [
    {
     "name": "stdout",
     "output_type": "stream",
     "text": [
      "Test MAPE = 0.0366\n",
      "Train MAPE = 0.0516\n"
     ]
    }
   ],
   "source": [
    "print(\"Test MAPE = %.4f\" % mean_absolute_percentage_error(y_test, y_pred_test_ridgep))\n",
    "print(\"Train MAPE = %.4f\" % mean_absolute_percentage_error(y_train, y_pred_train_ridgep))  "
   ]
  },
  {
   "cell_type": "markdown",
   "id": "ed340b22",
   "metadata": {},
   "source": [
    "Вывод: Я делала обучить модель, которая делает MAPE на тесте и на трейне как можно ближе друг к другу и при этом чтобы она была меньше."
   ]
  },
  {
   "cell_type": "code",
   "execution_count": 254,
   "id": "39be43fd",
   "metadata": {},
   "outputs": [
    {
     "data": {
      "text/html": [
       "<div>\n",
       "<style scoped>\n",
       "    .dataframe tbody tr th:only-of-type {\n",
       "        vertical-align: middle;\n",
       "    }\n",
       "\n",
       "    .dataframe tbody tr th {\n",
       "        vertical-align: top;\n",
       "    }\n",
       "\n",
       "    .dataframe thead tr th {\n",
       "        text-align: left;\n",
       "    }\n",
       "\n",
       "    .dataframe thead tr:last-of-type th {\n",
       "        text-align: right;\n",
       "    }\n",
       "</style>\n",
       "<table border=\"1\" class=\"dataframe\">\n",
       "  <thead>\n",
       "    <tr>\n",
       "      <th></th>\n",
       "      <th colspan=\"6\" halign=\"left\">income</th>\n",
       "      <th>July</th>\n",
       "    </tr>\n",
       "    <tr>\n",
       "      <th>month</th>\n",
       "      <th>1</th>\n",
       "      <th>2</th>\n",
       "      <th>3</th>\n",
       "      <th>4</th>\n",
       "      <th>5</th>\n",
       "      <th>6</th>\n",
       "      <th></th>\n",
       "    </tr>\n",
       "    <tr>\n",
       "      <th>product_type</th>\n",
       "      <th></th>\n",
       "      <th></th>\n",
       "      <th></th>\n",
       "      <th></th>\n",
       "      <th></th>\n",
       "      <th></th>\n",
       "      <th></th>\n",
       "    </tr>\n",
       "  </thead>\n",
       "  <tbody>\n",
       "    <tr>\n",
       "      <th>Barista Espresso</th>\n",
       "      <td>10461.20</td>\n",
       "      <td>10027.15</td>\n",
       "      <td>13078.20</td>\n",
       "      <td>15555.90</td>\n",
       "      <td>20423.75</td>\n",
       "      <td>21860.00</td>\n",
       "      <td>816</td>\n",
       "    </tr>\n",
       "    <tr>\n",
       "      <th>Biscotti</th>\n",
       "      <td>2311.02</td>\n",
       "      <td>2240.88</td>\n",
       "      <td>2928.20</td>\n",
       "      <td>3232.07</td>\n",
       "      <td>4418.02</td>\n",
       "      <td>4663.34</td>\n",
       "      <td>8846</td>\n",
       "    </tr>\n",
       "    <tr>\n",
       "      <th>Black tea</th>\n",
       "      <td>375.90</td>\n",
       "      <td>340.10</td>\n",
       "      <td>411.70</td>\n",
       "      <td>420.65</td>\n",
       "      <td>537.00</td>\n",
       "      <td>626.50</td>\n",
       "      <td>3516</td>\n",
       "    </tr>\n",
       "    <tr>\n",
       "      <th>Brewed Black tea</th>\n",
       "      <td>5535.50</td>\n",
       "      <td>5369.50</td>\n",
       "      <td>6875.00</td>\n",
       "      <td>8023.50</td>\n",
       "      <td>10778.00</td>\n",
       "      <td>11350.50</td>\n",
       "      <td>6044</td>\n",
       "    </tr>\n",
       "    <tr>\n",
       "      <th>Brewed Chai tea</th>\n",
       "      <td>8761.45</td>\n",
       "      <td>8383.40</td>\n",
       "      <td>11029.65</td>\n",
       "      <td>13291.95</td>\n",
       "      <td>17427.35</td>\n",
       "      <td>18188.15</td>\n",
       "      <td>398</td>\n",
       "    </tr>\n",
       "    <tr>\n",
       "      <th>Brewed Green tea</th>\n",
       "      <td>2883.50</td>\n",
       "      <td>2754.50</td>\n",
       "      <td>3325.00</td>\n",
       "      <td>3991.50</td>\n",
       "      <td>5404.50</td>\n",
       "      <td>5493.50</td>\n",
       "      <td>5712</td>\n",
       "    </tr>\n",
       "    <tr>\n",
       "      <th>Brewed herbal tea</th>\n",
       "      <td>5441.50</td>\n",
       "      <td>5226.00</td>\n",
       "      <td>6681.00</td>\n",
       "      <td>8050.00</td>\n",
       "      <td>10930.00</td>\n",
       "      <td>11211.00</td>\n",
       "      <td>9195</td>\n",
       "    </tr>\n",
       "    <tr>\n",
       "      <th>Chai tea</th>\n",
       "      <td>383.90</td>\n",
       "      <td>467.25</td>\n",
       "      <td>564.85</td>\n",
       "      <td>738.70</td>\n",
       "      <td>961.90</td>\n",
       "      <td>1184.65</td>\n",
       "      <td>1787</td>\n",
       "    </tr>\n",
       "    <tr>\n",
       "      <th>Clothing</th>\n",
       "      <td>1008.00</td>\n",
       "      <td>476.00</td>\n",
       "      <td>807.00</td>\n",
       "      <td>896.00</td>\n",
       "      <td>1418.00</td>\n",
       "      <td>1558.00</td>\n",
       "      <td>338</td>\n",
       "    </tr>\n",
       "    <tr>\n",
       "      <th>Drinking Chocolate</th>\n",
       "      <td>316.74</td>\n",
       "      <td>276.22</td>\n",
       "      <td>375.40</td>\n",
       "      <td>554.03</td>\n",
       "      <td>593.49</td>\n",
       "      <td>612.16</td>\n",
       "      <td>17156</td>\n",
       "    </tr>\n",
       "    <tr>\n",
       "      <th>Drip coffee</th>\n",
       "      <td>3583.50</td>\n",
       "      <td>3363.50</td>\n",
       "      <td>4560.50</td>\n",
       "      <td>5415.50</td>\n",
       "      <td>7290.50</td>\n",
       "      <td>7770.50</td>\n",
       "      <td>11264</td>\n",
       "    </tr>\n",
       "    <tr>\n",
       "      <th>Espresso Beans</th>\n",
       "      <td>806.25</td>\n",
       "      <td>674.50</td>\n",
       "      <td>857.20</td>\n",
       "      <td>783.45</td>\n",
       "      <td>1209.20</td>\n",
       "      <td>1229.65</td>\n",
       "      <td>637</td>\n",
       "    </tr>\n",
       "    <tr>\n",
       "      <th>Gourmet Beans</th>\n",
       "      <td>666.00</td>\n",
       "      <td>837.00</td>\n",
       "      <td>1023.00</td>\n",
       "      <td>1119.00</td>\n",
       "      <td>1653.00</td>\n",
       "      <td>1500.00</td>\n",
       "      <td>1523</td>\n",
       "    </tr>\n",
       "    <tr>\n",
       "      <th>Gourmet brewed coffee</th>\n",
       "      <td>8072.10</td>\n",
       "      <td>7651.70</td>\n",
       "      <td>9789.10</td>\n",
       "      <td>11820.50</td>\n",
       "      <td>15559.20</td>\n",
       "      <td>17142.00</td>\n",
       "      <td>21592</td>\n",
       "    </tr>\n",
       "    <tr>\n",
       "      <th>Green beans</th>\n",
       "      <td>230.00</td>\n",
       "      <td>170.00</td>\n",
       "      <td>190.00</td>\n",
       "      <td>210.00</td>\n",
       "      <td>290.00</td>\n",
       "      <td>250.00</td>\n",
       "      <td>638</td>\n",
       "    </tr>\n",
       "    <tr>\n",
       "      <th>Green tea</th>\n",
       "      <td>185.00</td>\n",
       "      <td>157.25</td>\n",
       "      <td>249.75</td>\n",
       "      <td>231.25</td>\n",
       "      <td>314.50</td>\n",
       "      <td>333.00</td>\n",
       "      <td>928</td>\n",
       "    </tr>\n",
       "    <tr>\n",
       "      <th>Herbal tea</th>\n",
       "      <td>349.05</td>\n",
       "      <td>313.25</td>\n",
       "      <td>420.65</td>\n",
       "      <td>438.55</td>\n",
       "      <td>581.75</td>\n",
       "      <td>626.50</td>\n",
       "      <td>9121</td>\n",
       "    </tr>\n",
       "    <tr>\n",
       "      <th>Hot chocolate</th>\n",
       "      <td>8337.75</td>\n",
       "      <td>8132.25</td>\n",
       "      <td>10253.50</td>\n",
       "      <td>12266.75</td>\n",
       "      <td>16319.75</td>\n",
       "      <td>17106.00</td>\n",
       "      <td>1339</td>\n",
       "    </tr>\n",
       "    <tr>\n",
       "      <th>House blend Beans</th>\n",
       "      <td>486.00</td>\n",
       "      <td>288.00</td>\n",
       "      <td>378.00</td>\n",
       "      <td>594.00</td>\n",
       "      <td>738.00</td>\n",
       "      <td>810.00</td>\n",
       "      <td>2032</td>\n",
       "    </tr>\n",
       "    <tr>\n",
       "      <th>Housewares</th>\n",
       "      <td>882.00</td>\n",
       "      <td>759.00</td>\n",
       "      <td>994.00</td>\n",
       "      <td>1483.00</td>\n",
       "      <td>1471.00</td>\n",
       "      <td>1855.00</td>\n",
       "      <td>658</td>\n",
       "    </tr>\n",
       "    <tr>\n",
       "      <th>Organic Beans</th>\n",
       "      <td>1076.00</td>\n",
       "      <td>847.00</td>\n",
       "      <td>1277.00</td>\n",
       "      <td>1486.50</td>\n",
       "      <td>1757.50</td>\n",
       "      <td>2065.50</td>\n",
       "      <td>333</td>\n",
       "    </tr>\n",
       "    <tr>\n",
       "      <th>Organic Chocolate</th>\n",
       "      <td>205.20</td>\n",
       "      <td>174.80</td>\n",
       "      <td>212.80</td>\n",
       "      <td>319.20</td>\n",
       "      <td>387.60</td>\n",
       "      <td>380.00</td>\n",
       "      <td>1436</td>\n",
       "    </tr>\n",
       "    <tr>\n",
       "      <th>Organic brewed coffee</th>\n",
       "      <td>4609.10</td>\n",
       "      <td>4077.50</td>\n",
       "      <td>5323.70</td>\n",
       "      <td>6611.00</td>\n",
       "      <td>8350.20</td>\n",
       "      <td>8775.00</td>\n",
       "      <td>11323</td>\n",
       "    </tr>\n",
       "    <tr>\n",
       "      <th>Pastry</th>\n",
       "      <td>2875.58</td>\n",
       "      <td>2815.16</td>\n",
       "      <td>3724.59</td>\n",
       "      <td>4362.40</td>\n",
       "      <td>5842.22</td>\n",
       "      <td>6036.04</td>\n",
       "      <td>16471</td>\n",
       "    </tr>\n",
       "    <tr>\n",
       "      <th>Premium Beans</th>\n",
       "      <td>1981.00</td>\n",
       "      <td>1261.00</td>\n",
       "      <td>1531.00</td>\n",
       "      <td>2631.75</td>\n",
       "      <td>3121.25</td>\n",
       "      <td>4057.50</td>\n",
       "      <td>18283</td>\n",
       "    </tr>\n",
       "    <tr>\n",
       "      <th>Premium brewed coffee</th>\n",
       "      <td>4530.95</td>\n",
       "      <td>4149.10</td>\n",
       "      <td>5552.10</td>\n",
       "      <td>6568.30</td>\n",
       "      <td>8739.20</td>\n",
       "      <td>9241.50</td>\n",
       "      <td>4653</td>\n",
       "    </tr>\n",
       "    <tr>\n",
       "      <th>Regular syrup</th>\n",
       "      <td>721.60</td>\n",
       "      <td>669.60</td>\n",
       "      <td>861.60</td>\n",
       "      <td>1033.60</td>\n",
       "      <td>1368.00</td>\n",
       "      <td>1430.40</td>\n",
       "      <td>7495</td>\n",
       "    </tr>\n",
       "    <tr>\n",
       "      <th>Scone</th>\n",
       "      <td>4349.15</td>\n",
       "      <td>3982.78</td>\n",
       "      <td>5249.79</td>\n",
       "      <td>6427.23</td>\n",
       "      <td>8305.28</td>\n",
       "      <td>8551.89</td>\n",
       "      <td>521</td>\n",
       "    </tr>\n",
       "    <tr>\n",
       "      <th>Sugar free syrup</th>\n",
       "      <td>252.80</td>\n",
       "      <td>260.80</td>\n",
       "      <td>310.40</td>\n",
       "      <td>384.80</td>\n",
       "      <td>537.60</td>\n",
       "      <td>577.60</td>\n",
       "      <td>1559</td>\n",
       "    </tr>\n",
       "  </tbody>\n",
       "</table>\n",
       "</div>"
      ],
      "text/plain": [
       "                         income                                          \\\n",
       "month                         1         2         3         4         5   \n",
       "product_type                                                              \n",
       "Barista Espresso       10461.20  10027.15  13078.20  15555.90  20423.75   \n",
       "Biscotti                2311.02   2240.88   2928.20   3232.07   4418.02   \n",
       "Black tea                375.90    340.10    411.70    420.65    537.00   \n",
       "Brewed Black tea        5535.50   5369.50   6875.00   8023.50  10778.00   \n",
       "Brewed Chai tea         8761.45   8383.40  11029.65  13291.95  17427.35   \n",
       "Brewed Green tea        2883.50   2754.50   3325.00   3991.50   5404.50   \n",
       "Brewed herbal tea       5441.50   5226.00   6681.00   8050.00  10930.00   \n",
       "Chai tea                 383.90    467.25    564.85    738.70    961.90   \n",
       "Clothing                1008.00    476.00    807.00    896.00   1418.00   \n",
       "Drinking Chocolate       316.74    276.22    375.40    554.03    593.49   \n",
       "Drip coffee             3583.50   3363.50   4560.50   5415.50   7290.50   \n",
       "Espresso Beans           806.25    674.50    857.20    783.45   1209.20   \n",
       "Gourmet Beans            666.00    837.00   1023.00   1119.00   1653.00   \n",
       "Gourmet brewed coffee   8072.10   7651.70   9789.10  11820.50  15559.20   \n",
       "Green beans              230.00    170.00    190.00    210.00    290.00   \n",
       "Green tea                185.00    157.25    249.75    231.25    314.50   \n",
       "Herbal tea               349.05    313.25    420.65    438.55    581.75   \n",
       "Hot chocolate           8337.75   8132.25  10253.50  12266.75  16319.75   \n",
       "House blend Beans        486.00    288.00    378.00    594.00    738.00   \n",
       "Housewares               882.00    759.00    994.00   1483.00   1471.00   \n",
       "Organic Beans           1076.00    847.00   1277.00   1486.50   1757.50   \n",
       "Organic Chocolate        205.20    174.80    212.80    319.20    387.60   \n",
       "Organic brewed coffee   4609.10   4077.50   5323.70   6611.00   8350.20   \n",
       "Pastry                  2875.58   2815.16   3724.59   4362.40   5842.22   \n",
       "Premium Beans           1981.00   1261.00   1531.00   2631.75   3121.25   \n",
       "Premium brewed coffee   4530.95   4149.10   5552.10   6568.30   8739.20   \n",
       "Regular syrup            721.60    669.60    861.60   1033.60   1368.00   \n",
       "Scone                   4349.15   3982.78   5249.79   6427.23   8305.28   \n",
       "Sugar free syrup         252.80    260.80    310.40    384.80    537.60   \n",
       "\n",
       "                                  July  \n",
       "month                         6         \n",
       "product_type                            \n",
       "Barista Espresso       21860.00    816  \n",
       "Biscotti                4663.34   8846  \n",
       "Black tea                626.50   3516  \n",
       "Brewed Black tea       11350.50   6044  \n",
       "Brewed Chai tea        18188.15    398  \n",
       "Brewed Green tea        5493.50   5712  \n",
       "Brewed herbal tea      11211.00   9195  \n",
       "Chai tea                1184.65   1787  \n",
       "Clothing                1558.00    338  \n",
       "Drinking Chocolate       612.16  17156  \n",
       "Drip coffee             7770.50  11264  \n",
       "Espresso Beans          1229.65    637  \n",
       "Gourmet Beans           1500.00   1523  \n",
       "Gourmet brewed coffee  17142.00  21592  \n",
       "Green beans              250.00    638  \n",
       "Green tea                333.00    928  \n",
       "Herbal tea               626.50   9121  \n",
       "Hot chocolate          17106.00   1339  \n",
       "House blend Beans        810.00   2032  \n",
       "Housewares              1855.00    658  \n",
       "Organic Beans           2065.50    333  \n",
       "Organic Chocolate        380.00   1436  \n",
       "Organic brewed coffee   8775.00  11323  \n",
       "Pastry                  6036.04  16471  \n",
       "Premium Beans           4057.50  18283  \n",
       "Premium brewed coffee   9241.50   4653  \n",
       "Regular syrup           1430.40   7495  \n",
       "Scone                   8551.89    521  \n",
       "Sugar free syrup         577.60   1559  "
      ]
     },
     "execution_count": 254,
     "metadata": {},
     "output_type": "execute_result"
    }
   ],
   "source": [
    "#предсказуемая выручка за июль для каждого продукта. \n",
    "train = pd.DataFrame({'y': y_pred_train_ridgep.astype(np.int64)}) \n",
    "test = pd.DataFrame({'y':y_pred_test_ridgep.astype(np.int64)})   \n",
    "July = train.append(test, ignore_index=True)\n",
    "July = July.set_index(income_table.index)\n",
    "income_table['July'] = July\n",
    "income_table"
   ]
  },
  {
   "cell_type": "markdown",
   "id": "67c7b7d3",
   "metadata": {},
   "source": [
    "В заключение, в рамках проекта был проведен анализ данных о продажах в кофейне. Был проведен исследовательский анализ данных (EDA), был рассчитан объем продаж, изучены тенденции доходов и определены наиболее популярные продукты. Также было установлено, какие продукты часто покупаются вместе. По итогам анализа графика были выдвинуты гипотезы, из данных были извлечены новые признаки и проведено их тестирование. Для завершения анализа была построена модель и сформулирован прогноз доходов на июль."
   ]
  }
 ],
 "metadata": {
  "kernelspec": {
   "display_name": "Python 3 (ipykernel)",
   "language": "python",
   "name": "python3"
  },
  "language_info": {
   "codemirror_mode": {
    "name": "ipython",
    "version": 3
   },
   "file_extension": ".py",
   "mimetype": "text/x-python",
   "name": "python",
   "nbconvert_exporter": "python",
   "pygments_lexer": "ipython3",
   "version": "3.10.9"
  }
 },
 "nbformat": 4,
 "nbformat_minor": 5
}
